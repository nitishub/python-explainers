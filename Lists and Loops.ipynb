{
 "cells": [
  {
   "cell_type": "markdown",
   "id": "9d005fa3",
   "metadata": {},
   "source": [
    "# List"
   ]
  },
  {
   "cell_type": "markdown",
   "id": "da62cf80",
   "metadata": {},
   "source": [
    "### 1. Can the elements in a list in Python contain different data types or only one data type?"
   ]
  },
  {
   "cell_type": "markdown",
   "id": "f9534a7a",
   "metadata": {},
   "source": [
    "A list can contain values/variables of different data types. However, if all the values are in int, float or bool, you can use special functions. "
   ]
  },
  {
   "cell_type": "markdown",
   "id": "da7dacd9",
   "metadata": {},
   "source": [
    "### 2. When will the max, min, and sum function work on a list and when will they not work?"
   ]
  },
  {
   "cell_type": "markdown",
   "id": "da199548",
   "metadata": {},
   "source": [
    "max, min and sum function only works on a list when all the elements of the list are of the int, float or any other numeric datatype. However, max and min can also work on strings. "
   ]
  },
  {
   "cell_type": "code",
   "execution_count": 1,
   "id": "f0e2686a",
   "metadata": {},
   "outputs": [
    {
     "name": "stdout",
     "output_type": "stream",
     "text": [
      "z A\n"
     ]
    }
   ],
   "source": [
    "s = ['a', 'A', 'z']\n",
    "print(max(s), min(s))"
   ]
  },
  {
   "cell_type": "markdown",
   "id": "89c47d3d",
   "metadata": {},
   "source": [
    "### 3. How do the all and any functions work?"
   ]
  },
  {
   "cell_type": "markdown",
   "id": "3bffbd88",
   "metadata": {},
   "source": [
    "any and all functions work as a logical operator.\n",
    "* When all the values in a list evaluate to boolean True, all() returns True, otherwise it returns False.\n",
    "* When atleast one of the values in a list evaluate to boolean True, any() returns True, otherwise it returns False."
   ]
  },
  {
   "cell_type": "code",
   "execution_count": 2,
   "id": "dac99cbc",
   "metadata": {},
   "outputs": [
    {
     "name": "stdout",
     "output_type": "stream",
     "text": [
      "All are not True\n",
      "Atleast one is True\n"
     ]
    }
   ],
   "source": [
    "if all([True, True, True, False]):\n",
    "    print('All are True')\n",
    "else:\n",
    "    print('All are not True') \n",
    "    \n",
    "if any([False, False, False, True]):\n",
    "    print('Atleast one is True')\n",
    "else:\n",
    "    print('All is False')"
   ]
  },
  {
   "cell_type": "markdown",
   "id": "d0529a5e",
   "metadata": {},
   "source": [
    "### 4. How do you access a particular element in a list? What does it mean that lists in Python are 0-indexed?"
   ]
  },
  {
   "cell_type": "markdown",
   "id": "38ac6a32",
   "metadata": {},
   "source": [
    "Any particular element or a set of elements in a list can be accessed using the indexing operator (square brackets). We have to pass-in the index of the required elements to the indexing operator. Python lists are 0-indexed meaning that the positions of the elements start from zero. The index of the first element in the list is 0, that of the second element is 1 and so on. "
   ]
  },
  {
   "cell_type": "code",
   "execution_count": 3,
   "id": "d25c02f9",
   "metadata": {},
   "outputs": [
    {
     "name": "stdout",
     "output_type": "stream",
     "text": [
      "a\n",
      "e\n"
     ]
    }
   ],
   "source": [
    "my_list = ['a', 'b', 'c','d','e','f','g']\n",
    "print(my_list[0])\n",
    "print(my_list[4])"
   ]
  },
  {
   "cell_type": "markdown",
   "id": "ee9aca59",
   "metadata": {},
   "source": [
    "### 5. Explain what list slicing is?"
   ]
  },
  {
   "cell_type": "markdown",
   "id": "55cbc59d",
   "metadata": {},
   "source": [
    "List slicing is used to access a portion of the list. It can be done by using the slicing operator ':' inside the indexing operator. List slicing returns a new list. The general syntax for list formatting is list [start index : end index : step size]. The start index is included whereas the end index is not. Here, both the starting index and ending index are optional as we will see in the following examples:"
   ]
  },
  {
   "cell_type": "code",
   "execution_count": 4,
   "id": "26092308",
   "metadata": {},
   "outputs": [
    {
     "name": "stdout",
     "output_type": "stream",
     "text": [
      "['a', 'b', 'c', 'd', 'e']\n",
      "['a', 'c', 'e']\n",
      "['d', 'e', 'f', 'g']\n",
      "['a', 'b', 'c']\n",
      "['a', 'b', 'c', 'd', 'e', 'f', 'g']\n",
      "['a', 'c', 'e']\n"
     ]
    }
   ],
   "source": [
    "#Using list slicing to access the elements of the list with indices 0,1 and 2.\n",
    "print(my_list[0:5])\n",
    "\n",
    "#The step size can also be specified using another colon after the end index.\n",
    "print(my_list[0:5:2])\n",
    "\n",
    "#if we want to access all the elements starting from a particular index till the end, we can specify the starting index\n",
    "#and leave out the end index.\n",
    "print(my_list[3:])\n",
    "\n",
    "#if we want to access all the elements starting from the beginning till a particular index, it can be done by leaving out\n",
    "#the start index.\n",
    "print(my_list[:3])\n",
    "\n",
    "#if we don't specify any indexes and only use the colon, python will simply return all the elements of the list.\n",
    "print(my_list[:])\n",
    "\n",
    "#we can even choose to specify only the end index and the step size.\n",
    "print(my_list[:6:2])"
   ]
  },
  {
   "cell_type": "markdown",
   "id": "9309889b",
   "metadata": {},
   "source": [
    "### 6. What does index -1 mean? How can you reverse a list using it?"
   ]
  },
  {
   "cell_type": "markdown",
   "id": "56a32072",
   "metadata": {},
   "source": [
    "In the context of list indexing, we can think of -1 as 'starting from the end'. So, using -1 in the index operator will give the last element as the output. The negative index means that elements are being referenced in the reverse order. Negative index can be used to access last n elements of a list as shown in the below code cell: "
   ]
  },
  {
   "cell_type": "code",
   "execution_count": 5,
   "id": "90741426",
   "metadata": {},
   "outputs": [
    {
     "name": "stdout",
     "output_type": "stream",
     "text": [
      "g\n",
      "['e', 'f', 'g']\n"
     ]
    }
   ],
   "source": [
    "print(my_list[-1])\n",
    "print(my_list[-3:])"
   ]
  },
  {
   "cell_type": "markdown",
   "id": "0553a61c",
   "metadata": {},
   "source": [
    "When we use negative step size, the order in which python traverses the list is reversed. This can be used to reverse a list."
   ]
  },
  {
   "cell_type": "code",
   "execution_count": 6,
   "id": "526def33",
   "metadata": {
    "scrolled": true
   },
   "outputs": [
    {
     "name": "stdout",
     "output_type": "stream",
     "text": [
      "['g', 'f', 'e', 'd', 'c', 'b', 'a']\n"
     ]
    }
   ],
   "source": [
    "print(my_list[::-1])"
   ]
  },
  {
   "cell_type": "markdown",
   "id": "77b9ed4e",
   "metadata": {},
   "source": [
    "### 7. What are the different ways of deleting an element from a list at a particular index?"
   ]
  },
  {
   "cell_type": "markdown",
   "id": "7d6e9702",
   "metadata": {},
   "source": [
    "Two ways of deleting an element from a list at a particular index are:\n",
    "1. Using the 'del' keyword. The 'del' keyword can be used to delete elements at a particular index or a slice of the list. Example:"
   ]
  },
  {
   "cell_type": "code",
   "execution_count": 7,
   "id": "910105ab",
   "metadata": {},
   "outputs": [
    {
     "name": "stdout",
     "output_type": "stream",
     "text": [
      "['a', 'b', 'c', 'e', 'f', 'g']\n",
      "['a', 'b', 'c', 'g']\n"
     ]
    }
   ],
   "source": [
    "del my_list[3]\n",
    "print(my_list)\n",
    "\n",
    "del my_list[3:5]\n",
    "print(my_list)"
   ]
  },
  {
   "cell_type": "markdown",
   "id": "4cfafd43",
   "metadata": {},
   "source": [
    "2. Using the .pop() method. This method removes an element at a particular index and also returns that particular element. Example:"
   ]
  },
  {
   "cell_type": "code",
   "execution_count": 8,
   "id": "91d22783",
   "metadata": {
    "scrolled": true
   },
   "outputs": [
    {
     "name": "stdout",
     "output_type": "stream",
     "text": [
      "['b', 'c', 'g']\n"
     ]
    }
   ],
   "source": [
    "my_list.pop(0)\n",
    "print(my_list)"
   ]
  },
  {
   "cell_type": "markdown",
   "id": "ca55399d",
   "metadata": {},
   "source": [
    "### 8. What is the meaning of the + operator when the operands are a list?"
   ]
  },
  {
   "cell_type": "markdown",
   "id": "67373ca4",
   "metadata": {},
   "source": [
    "The '+' operator concates two lists. "
   ]
  },
  {
   "cell_type": "code",
   "execution_count": 9,
   "id": "e6433a99",
   "metadata": {
    "scrolled": true
   },
   "outputs": [
    {
     "name": "stdout",
     "output_type": "stream",
     "text": [
      "['b', 'c', 'g', 'w', 'x', 'y', 'z']\n"
     ]
    }
   ],
   "source": [
    "my_list = my_list + ['w', 'x', 'y', 'z']\n",
    "print(my_list)"
   ]
  },
  {
   "cell_type": "markdown",
   "id": "359c5028",
   "metadata": {},
   "source": [
    "### 9. What is the meaning of the * operator on a list? "
   ]
  },
  {
   "cell_type": "markdown",
   "id": "79e1dc3b",
   "metadata": {},
   "source": [
    "The asterisk operator is used to repeat the list 'n' number of times where n is the number on the right of the asterisk operator. Suppose we have to repeat the elements of my_list 2 times:"
   ]
  },
  {
   "cell_type": "code",
   "execution_count": 10,
   "id": "16b90546",
   "metadata": {},
   "outputs": [
    {
     "name": "stdout",
     "output_type": "stream",
     "text": [
      "['b', 'c', 'g', 'w', 'x', 'y', 'z', 'b', 'c', 'g', 'w', 'x', 'y', 'z']\n"
     ]
    }
   ],
   "source": [
    "my_list = my_list*2\n",
    "print(my_list)"
   ]
  },
  {
   "cell_type": "markdown",
   "id": "be384688",
   "metadata": {},
   "source": [
    "### 10. What is the difference between sort and sorted?"
   ]
  },
  {
   "cell_type": "markdown",
   "id": "421f307b",
   "metadata": {},
   "source": [
    "The primary difference is that while sorted() function will return a copy of the list with it's elements sorted, the .sort() method will modify the original list and sort it's elements inplace. "
   ]
  },
  {
   "cell_type": "markdown",
   "id": "5d85d181",
   "metadata": {},
   "source": [
    "### 11. Will the index method on a list return all the indices where the specified value occurs?"
   ]
  },
  {
   "cell_type": "markdown",
   "id": "e4e451b1",
   "metadata": {},
   "source": [
    "The index method will only return the index of the first matching element. It will egnore the rest of the matching elements."
   ]
  },
  {
   "cell_type": "code",
   "execution_count": 11,
   "id": "8bec7569",
   "metadata": {},
   "outputs": [
    {
     "name": "stdout",
     "output_type": "stream",
     "text": [
      "3\n",
      "w\n"
     ]
    }
   ],
   "source": [
    "print(my_list.index('w'))\n",
    "print(my_list[10])\n",
    "#Here, the method only returns the index of first 'w' at index 3.\n",
    "#Whereas it ignores the 'w' at index at index '10' "
   ]
  },
  {
   "cell_type": "markdown",
   "id": "90e30544",
   "metadata": {},
   "source": [
    "### 12. What method can you use to remove the last element from a list and also get that value?"
   ]
  },
  {
   "cell_type": "markdown",
   "id": "02e00e44",
   "metadata": {},
   "source": [
    "The .pop() method, without any arguments, removes the last element from the list and also returns the value of the last element. "
   ]
  },
  {
   "cell_type": "markdown",
   "id": "0dd2d944",
   "metadata": {},
   "source": [
    "### 13. Is it possible to modify a tuple?"
   ]
  },
  {
   "cell_type": "markdown",
   "id": "d0f4ca4d",
   "metadata": {},
   "source": [
    "Since tuple are immutable, they cannot be modified once created. However, a tuple can be converted to a list and the modified and converted back to tuple. New elements can also be added to tuples by concatenating two tuples."
   ]
  },
  {
   "cell_type": "code",
   "execution_count": 12,
   "id": "2f0d435e",
   "metadata": {},
   "outputs": [
    {
     "name": "stdout",
     "output_type": "stream",
     "text": [
      "('Cat', 'Dog', 'Tiger', 'Lion', 'Cheetah')\n",
      "('Cat', 'Dog', 'Tiger', 'Lion', 'Cheetah', 'Fox', 'Wolf')\n"
     ]
    }
   ],
   "source": [
    "animals = ('Cat', 'Dog', 'Tiger', 'Lion')\n",
    "animals_list = list(animals)\n",
    "animals_list.append('Cheetah')\n",
    "animals = tuple(animals_list)\n",
    "print(animals)\n",
    "\n",
    "animals = animals + ('Fox','Wolf')\n",
    "print(animals)"
   ]
  },
  {
   "cell_type": "markdown",
   "id": "33d1dee8",
   "metadata": {},
   "source": [
    "### 14. What operator can be used to check if an element exists inside a sequence?"
   ]
  },
  {
   "cell_type": "markdown",
   "id": "9b1233be",
   "metadata": {},
   "source": [
    "The 'in' operator can be used to check if an element exists inside a sequence. It returns at boolean True or False."
   ]
  },
  {
   "cell_type": "code",
   "execution_count": 13,
   "id": "99b5a4f8",
   "metadata": {},
   "outputs": [
    {
     "name": "stdout",
     "output_type": "stream",
     "text": [
      "True\n",
      "False\n"
     ]
    }
   ],
   "source": [
    "print('Tiger' in animals)\n",
    "print('Penguin' in animals)"
   ]
  },
  {
   "cell_type": "markdown",
   "id": "1025ddfa",
   "metadata": {},
   "source": [
    "### 15. What is the significance of calling a list and string a sequence?"
   ]
  },
  {
   "cell_type": "markdown",
   "id": "f95cce6d",
   "metadata": {},
   "source": [
    "Since, string is sequence of characters, the functions that apply to lists can also be applied to strings. The strings can also be iterated through, one character at a time. Thinking of strings as sequences can be useful in solving a lot of programming problems.  "
   ]
  },
  {
   "cell_type": "markdown",
   "id": "f3d4dbf2",
   "metadata": {},
   "source": [
    "# Loops"
   ]
  },
  {
   "cell_type": "markdown",
   "id": "a9395e1c",
   "metadata": {},
   "source": [
    "### 1. Explain how the range function works."
   ]
  },
  {
   "cell_type": "markdown",
   "id": "cc154fab",
   "metadata": {},
   "source": [
    "The range function returns a sequence of numbers in a specified range in the form of an object of class 'range'. \n",
    "* When only one argument is passed, it specifies the end point of the sequence. The end point is not included in the sequence. The default starting point is zero. \n",
    "* When two arguments are passed, the first argument is the starting point and the second argument is the end point. The starting point is included in the sequence.\n",
    "* When three arguments are passed, the first and second arguments are starting point and ending point respectively. The third argument is the step size of the sequence. \n",
    "\n",
    "The actual values in a range object can be displayed by converting it to a list. "
   ]
  },
  {
   "cell_type": "code",
   "execution_count": 14,
   "id": "1b8b8630",
   "metadata": {},
   "outputs": [
    {
     "name": "stdout",
     "output_type": "stream",
     "text": [
      "range(0, 10)\n",
      "<class 'range'>\n",
      "[0, 1, 2, 3, 4, 5, 6, 7, 8, 9]\n",
      "[1, 2, 3, 4, 5, 6, 7, 8, 9]\n",
      "[1, 3, 5, 7, 9]\n"
     ]
    }
   ],
   "source": [
    "print(range(10))\n",
    "\n",
    "#range() returns an object of class 'range'\n",
    "print(type(range(10)))\n",
    "\n",
    "#showing exapmles of when 1,2 and 3 arguments are passed to the range function. \n",
    "print(list(range(10)))\n",
    "print(list(range(1,10)))\n",
    "print(list(range(1,10,2)))"
   ]
  },
  {
   "cell_type": "markdown",
   "id": "31acf235",
   "metadata": {},
   "source": [
    "### 2. If you want to loop over a list using indices, how can you do that?"
   ]
  },
  {
   "cell_type": "markdown",
   "id": "fc1b6fa1",
   "metadata": {},
   "source": [
    "We can loop over a list using indices by using a counter and running the while loop till the counter hits the number 1 less than the length of the list. We can query the list using the counter at each iteration. "
   ]
  },
  {
   "cell_type": "code",
   "execution_count": 15,
   "id": "7fe5799f",
   "metadata": {},
   "outputs": [
    {
     "name": "stdout",
     "output_type": "stream",
     "text": [
      "1\n",
      "4\n",
      "7\n",
      "10\n",
      "13\n",
      "16\n",
      "19\n"
     ]
    }
   ],
   "source": [
    "my_list = list(range(1,20,3))\n",
    "\n",
    "i = 0\n",
    "\n",
    "while i < len(my_list):\n",
    "    print(my_list[i])\n",
    "    i += 1"
   ]
  },
  {
   "cell_type": "markdown",
   "id": "97a99870",
   "metadata": {},
   "source": [
    "### 3. Explain what the enumerate function does?"
   ]
  },
  {
   "cell_type": "markdown",
   "id": "f77f6ab5",
   "metadata": {},
   "source": [
    "Enumerate function attaches an iterator to each element of a list and returns it in the form of an object of class enumerate. This object can be converted to a list of tuples containing iterator-value pairs. The default starting index is 0. It can be set to any desired value by using the start argument."
   ]
  },
  {
   "cell_type": "code",
   "execution_count": 16,
   "id": "d2cb76e9",
   "metadata": {},
   "outputs": [
    {
     "name": "stdout",
     "output_type": "stream",
     "text": [
      "<class 'enumerate'>\n",
      "[(0, 1), (1, 4), (2, 7), (3, 10), (4, 13), (5, 16), (6, 19)]\n",
      "1 1\n",
      "2 4\n",
      "3 7\n",
      "4 10\n",
      "5 13\n",
      "6 16\n",
      "7 19\n"
     ]
    }
   ],
   "source": [
    "print(type(enumerate(my_list)))\n",
    "print(list(enumerate(my_list)))\n",
    "\n",
    "#using start argument to set the starting value to 1\n",
    "for index, value in enumerate(my_list, start = 1):\n",
    "    print(index, value)"
   ]
  },
  {
   "cell_type": "markdown",
   "id": "ea33ca26",
   "metadata": {},
   "source": [
    "### 4. If you want to simultaneously access two or more lists at the same time in Python, how can you do it?"
   ]
  },
  {
   "cell_type": "markdown",
   "id": "e26ef49b",
   "metadata": {},
   "source": [
    "Following are the two ways of accessing two or more lists simultaneously:\n",
    "\n",
    "1. Using the zip() function."
   ]
  },
  {
   "cell_type": "code",
   "execution_count": 17,
   "id": "691202c8",
   "metadata": {},
   "outputs": [
    {
     "name": "stdout",
     "output_type": "stream",
     "text": [
      "1 91\n",
      "2 92\n",
      "3 93\n",
      "4 94\n",
      "5 95\n",
      "6 96\n",
      "7 97\n",
      "8 98\n",
      "9 99\n"
     ]
    }
   ],
   "source": [
    "list_1 = list(range(1,10))\n",
    "list_2 = list(range(91,100))\n",
    "\n",
    "for num1, num2 in zip(list_1, list_2):\n",
    "    print(num1, num2)"
   ]
  },
  {
   "cell_type": "markdown",
   "id": "55b0e921",
   "metadata": {},
   "source": [
    "2. By using the index operator on each list separately. "
   ]
  },
  {
   "cell_type": "code",
   "execution_count": 18,
   "id": "8b7299b6",
   "metadata": {},
   "outputs": [
    {
     "name": "stdout",
     "output_type": "stream",
     "text": [
      "1 91\n",
      "2 92\n",
      "3 93\n",
      "4 94\n",
      "5 95\n",
      "6 96\n",
      "7 97\n",
      "8 98\n",
      "9 99\n"
     ]
    }
   ],
   "source": [
    "for i in range(len(list_1)):\n",
    "    print(list_1[i], list_2[i])"
   ]
  },
  {
   "cell_type": "markdown",
   "id": "86b51d28",
   "metadata": {},
   "source": [
    "### 5. Explain the zip function. How many lists can you zip up? What happens when there is a length mismatch between lists?"
   ]
  },
  {
   "cell_type": "markdown",
   "id": "e76bbaa2",
   "metadata": {},
   "source": [
    "The zip function clubs together elements of two lists with the same index in the form of an object of class 'zip'. This object can be converted to a list of tuples containing the group of elements with the same index. Zero or more lists can be 'zipped up'. If there is a mismatch in the list length, the zip function clubs elements till the last index of the shortest length.  "
   ]
  },
  {
   "cell_type": "code",
   "execution_count": 19,
   "id": "58e60f9d",
   "metadata": {},
   "outputs": [
    {
     "name": "stdout",
     "output_type": "stream",
     "text": [
      "<class 'zip'>\n"
     ]
    },
    {
     "data": {
      "text/plain": [
       "[(1, 91),\n",
       " (2, 92),\n",
       " (3, 93),\n",
       " (4, 94),\n",
       " (5, 95),\n",
       " (6, 96),\n",
       " (7, 97),\n",
       " (8, 98),\n",
       " (9, 99)]"
      ]
     },
     "execution_count": 19,
     "metadata": {},
     "output_type": "execute_result"
    }
   ],
   "source": [
    "print(type(zip(list_1,list_2)))\n",
    "\n",
    "list(zip(list_1,list_2))"
   ]
  },
  {
   "cell_type": "markdown",
   "id": "27223d24",
   "metadata": {},
   "source": [
    "### 6. When you split a string on some character, what data type will be returned? "
   ]
  },
  {
   "cell_type": "markdown",
   "id": "e044e030",
   "metadata": {},
   "source": [
    "The split method returns a list. When we want to store each word of a sentence in a list we can use the split function. "
   ]
  },
  {
   "cell_type": "code",
   "execution_count": 20,
   "id": "6336dd15",
   "metadata": {},
   "outputs": [
    {
     "name": "stdout",
     "output_type": "stream",
     "text": [
      "['Cat', 'Dog', 'Tiger', 'Lion', 'Cheetah', 'Fox']\n"
     ]
    }
   ],
   "source": [
    "animals = 'Cat Dog Tiger Lion Cheetah Fox'\n",
    "animals_list = animals.split()\n",
    "print(animals_list)"
   ]
  },
  {
   "cell_type": "markdown",
   "id": "0fb446e0",
   "metadata": {},
   "source": [
    "### 7. Say you are parsing a text file with many lines of data. You know that there should always be five columns in each line. Explain how you can verify the integrity of this file? "
   ]
  },
  {
   "cell_type": "markdown",
   "id": "418090da",
   "metadata": {},
   "source": [
    "I will use the split method on each line and pass in the separator as the argument. Then I will compare each list with the expected value. This will tell me if a line has more columns than expected.  "
   ]
  },
  {
   "cell_type": "code",
   "execution_count": 21,
   "id": "cfd90f15",
   "metadata": {},
   "outputs": [
    {
     "name": "stdout",
     "output_type": "stream",
     "text": [
      "bad line at line number 3.\n",
      "bad line at line number 5.\n"
     ]
    }
   ],
   "source": [
    "line_1 = '10,34,56,43,56'\n",
    "line_2 = '34,54,65,65,43'\n",
    "line_3 = '34,55,98,36,87,45'\n",
    "line_4 = '45,64,34,67,45'\n",
    "line_5 = ''\n",
    "line_6 = '87,35,65,35,98'\n",
    "\n",
    "file = [line_1, line_2, line_3, line_4, line_5, line_6]\n",
    "\n",
    "for line_number,line in enumerate(file,start =1):\n",
    "    if len(line.split(',')) != 5:\n",
    "        print(f'bad line at line number {line_number}.')"
   ]
  },
  {
   "cell_type": "markdown",
   "id": "c3cba4bc",
   "metadata": {},
   "source": [
    "### 8. Sometimes before the for loop code you have to initialize a variable to 0 or an empty list. Why do you have to do this?"
   ]
  },
  {
   "cell_type": "markdown",
   "id": "78ba6886",
   "metadata": {},
   "source": [
    "When we want to add a value repeatedly in a loop and store it in a variable, we usually intialise it to zero outside the loop. Suppose we want to add all the numbers in a list:"
   ]
  },
  {
   "cell_type": "code",
   "execution_count": 22,
   "id": "002f2ca7",
   "metadata": {},
   "outputs": [
    {
     "name": "stdout",
     "output_type": "stream",
     "text": [
      "3161\n"
     ]
    }
   ],
   "source": [
    "num_list = [234,23,3,4,234,324,2332,3,4]\n",
    "\n",
    "#intialising the total to 0\n",
    "total = 0\n",
    "\n",
    "for num in num_list:\n",
    "    total += num\n",
    "    \n",
    "print(total)"
   ]
  },
  {
   "cell_type": "markdown",
   "id": "d948866b",
   "metadata": {},
   "source": [
    "When we want to store the elements in a new list, we may initialise an empty list. Suppose, we want to multiply each number in a list with 5 and store it in a new list:"
   ]
  },
  {
   "cell_type": "code",
   "execution_count": 23,
   "id": "e58c5b28",
   "metadata": {},
   "outputs": [
    {
     "name": "stdout",
     "output_type": "stream",
     "text": [
      "[1170, 115, 15, 20, 1170, 1620, 11660, 15, 20]\n"
     ]
    }
   ],
   "source": [
    "num_list = [234,23,3,4,234,324,2332,3,4]\n",
    "\n",
    "#initialising the new list\n",
    "new_num_list  = []\n",
    "\n",
    "for num in num_list:\n",
    "    new_num_list.append(num*5)\n",
    "    \n",
    "print(new_num_list)"
   ]
  },
  {
   "cell_type": "markdown",
   "id": "9cd9fbd8",
   "metadata": {},
   "source": [
    "### 9. Explain in detail the purpose of the following lines:\n",
    "\n",
    "`if not line.strip():\n",
    "     continue`"
   ]
  },
  {
   "cell_type": "markdown",
   "id": "ed4cf1b8",
   "metadata": {},
   "source": [
    "The above code can be used to skip blank lines in a file. line.strip() will return an empty string which will evaluate to a boolean False. The not operator will convert it to True. Because of the 'continue' statement, the rest of the body of the loop will not be executed and a new loop will start depending upon the loop conditional. Let's try to store all the numbers in the variable file in a single list. "
   ]
  },
  {
   "cell_type": "code",
   "execution_count": 24,
   "id": "d393190a",
   "metadata": {},
   "outputs": [
    {
     "name": "stdout",
     "output_type": "stream",
     "text": [
      "['1', '0', ',', '3', '4', ',', '5', '6', ',', '4', '3', ',', '5', '6', '3', '4', ',', '5', '4', ',', '6', '5', ',', '6', '5', ',', '4', '3', '3', '4', ',', '5', '5', ',', '9', '8', ',', '3', '6', ',', '8', '7', ',', '4', '5', '4', '5', ',', '6', '4', ',', '3', '4', ',', '6', '7', ',', '4', '5', '8', '7', ',', '3', '5', ',', '6', '5', ',', '3', '5', ',', '9', '8']\n"
     ]
    }
   ],
   "source": [
    "line_1 = '10,34,56,43,56'\n",
    "line_2 = '34,54,65,65,43'\n",
    "line_3 = '34,55,98,36,87,45'\n",
    "line_4 = '45,64,34,67,45'\n",
    "line_5 = ''\n",
    "line_6 = '87,35,65,35,98'\n",
    "\n",
    "file = [line_1, line_2, line_3, line_4, line_5, line_6]\n",
    "\n",
    "num_list = [] \n",
    "\n",
    "for line in file:\n",
    "    \n",
    "    if not line.strip():\n",
    "        continue\n",
    "        \n",
    "    num_list += line.strip(',')\n",
    "    \n",
    "print(num_list)\n",
    "        \n",
    "    \n",
    "\n"
   ]
  },
  {
   "cell_type": "markdown",
   "id": "996c5e1e",
   "metadata": {},
   "source": [
    "### 10. Explain in detail the purpose of the following lines:\n",
    "\n",
    "`\n",
    "try:\n",
    "    value = float(line)\n",
    "except:\n",
    "    continue\n",
    "`"
   ]
  },
  {
   "cell_type": "markdown",
   "id": "1d7e18d6",
   "metadata": {},
   "source": [
    "The try except block can be used to avoid the program from crashing when an error is generated. Python tries to execute the code in the try block, if it throws an error, it executes the except block. Let's create a program to prompt the user to enter numbers and add them up and display the result. "
   ]
  },
  {
   "cell_type": "code",
   "execution_count": 25,
   "id": "82a3ff1d",
   "metadata": {},
   "outputs": [
    {
     "name": "stdout",
     "output_type": "stream",
     "text": [
      "Please enter a positive integer. Enter 'stop' to quit: hello\n",
      "Please enter positive integers only.\n",
      "Please enter a positive integer. Enter 'stop' to quit: 45\n",
      "Please enter a positive integer. Enter 'stop' to quit: 56\n",
      "Please enter a positive integer. Enter 'stop' to quit: 23\n",
      "Please enter a positive integer. Enter 'stop' to quit: stop\n",
      "Total of all the numbers is 124\n"
     ]
    }
   ],
   "source": [
    "total = 0\n",
    "while True:\n",
    "    num_string = input(\"Please enter a positive integer. Enter 'stop' to quit: \")\n",
    "    if num_string == 'stop':\n",
    "        break\n",
    "        \n",
    "    try:\n",
    "        total += int(num_string)\n",
    "    except:\n",
    "        print('Please enter positive integers only.')\n",
    "        continue     \n",
    "        \n",
    "print(f'Total of all the numbers is {total}')\n"
   ]
  }
 ],
 "metadata": {
  "kernelspec": {
   "display_name": "Python 3 (ipykernel)",
   "language": "python",
   "name": "python3"
  },
  "language_info": {
   "codemirror_mode": {
    "name": "ipython",
    "version": 3
   },
   "file_extension": ".py",
   "mimetype": "text/x-python",
   "name": "python",
   "nbconvert_exporter": "python",
   "pygments_lexer": "ipython3",
   "version": "3.9.12"
  }
 },
 "nbformat": 4,
 "nbformat_minor": 5
}
