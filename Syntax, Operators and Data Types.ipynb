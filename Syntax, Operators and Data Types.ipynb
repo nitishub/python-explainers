{
 "cells": [
  {
   "cell_type": "markdown",
   "id": "9a969e1d",
   "metadata": {},
   "source": [
    "# Syntax, Operators and Data Types"
   ]
  },
  {
   "cell_type": "markdown",
   "id": "0e67a93f",
   "metadata": {},
   "source": [
    "## 1. Explain each of the following terms:\n",
    "\n",
    "         1. Syntax\n",
    "        \n",
    "            Goal of every language is to be able to effectively communicate ideas. This is true of both Python and English. In case of a human language like English, we are trying to communicate ideas to each other. On the other hand, in case of a programming language like Python, we are trying to communicate a set of instructions to a computer so that it can read and act upon it. \n",
    "            \n",
    "            However, no communication can occur if one does not know how to arrange the words to form meaningful sentences. Every language has a set of rules that it's users must understand in order to communicate successfully. Even if you know the meaning of each and every word of a language, you won't be able to communicate much without knowing how to arrange them. In context of a programming languages, syntax is the set of rules that determine what order of words and symbols form a sentence which is meaningful to a computer. By following proper syntax, a programmer can successfully communicate a set of instructions to a computer. \n",
    " "
   ]
  },
  {
   "cell_type": "markdown",
   "id": "818aa80b",
   "metadata": {},
   "source": [
    "        2. Operators\n",
    "            \n",
    "            Operator is a special symbol which indicates a computation that is meant to be performed. For example:"
   ]
  },
  {
   "cell_type": "code",
   "execution_count": 1,
   "id": "40fcfc5e",
   "metadata": {},
   "outputs": [
    {
     "name": "stdout",
     "output_type": "stream",
     "text": [
      "15\n"
     ]
    }
   ],
   "source": [
    "a = 10\n",
    "b = 5\n",
    "c = a + b\n",
    "\n",
    "print(c)"
   ]
  },
  {
   "cell_type": "markdown",
   "id": "0f4bd15d",
   "metadata": {},
   "source": [
    "            Here, '+' is an operator which performs an arithmetic operation between two varibles, a and b. '=' is an assignment operator which assigns the value of 10 to the variable 'a' in line 1 and the value of 5 to the variable 'b' in line 2. There are also other categories of operators which are used to perform a variety of operations such as artihmetic and logical operations, comparison etc. "
   ]
  },
  {
   "cell_type": "markdown",
   "id": "845db346",
   "metadata": {},
   "source": [
    "        3. Operands\n",
    "            \n",
    "            Operands are the values and variables on which the operations are performed. In the above example, the variables 'a' and 'b' are the operands for the '+' operator. An operand can be a value or a variable. \n",
    "          "
   ]
  },
  {
   "cell_type": "markdown",
   "id": "44e4d6c0",
   "metadata": {},
   "source": [
    "        4. Expression\n",
    "            \n",
    "            An expression is a valid combination of operators, values and variables that results in another value.\n",
    "            "
   ]
  },
  {
   "cell_type": "markdown",
   "id": "7ce680ce",
   "metadata": {},
   "source": [
    "## 2. What is the difference between division and integer division?\n",
    "\n",
    "    The difference between division and integer division can best be understood by the following example:"
   ]
  },
  {
   "cell_type": "code",
   "execution_count": 2,
   "id": "2e38c1af",
   "metadata": {},
   "outputs": [
    {
     "name": "stdout",
     "output_type": "stream",
     "text": [
      "2.5 0\n"
     ]
    }
   ],
   "source": [
    "x=5 / 2\n",
    "y=5 // 52\n",
    "\n",
    "print(x,y)"
   ]
  },
  {
   "cell_type": "markdown",
   "id": "b49f4d74",
   "metadata": {},
   "source": [
    "    It is evident that while the division operator '/' results in a fractional division, the integer division operator '//' acts as a least integer function. "
   ]
  },
  {
   "cell_type": "markdown",
   "id": "8f253490",
   "metadata": {},
   "source": [
    "## 3. Does integer division round a number or truncates?\n",
    "        \n",
    "        The integer division truncates the result as demonstrated by the following example:\n",
    "        "
   ]
  },
  {
   "cell_type": "code",
   "execution_count": 3,
   "id": "e1b8f076",
   "metadata": {},
   "outputs": [
    {
     "name": "stdout",
     "output_type": "stream",
     "text": [
      "0\n",
      "1\n"
     ]
    }
   ],
   "source": [
    "print(99 // 100)\n",
    "print(round(99 / 100))"
   ]
  },
  {
   "cell_type": "markdown",
   "id": "5c9a1289",
   "metadata": {},
   "source": [
    "        The integer division simply removes everything after the decimal point and returns the integer."
   ]
  },
  {
   "cell_type": "markdown",
   "id": "b36e342a",
   "metadata": {},
   "source": [
    "## 4.What does the modulo operator do?\n",
    "\n",
    "        Modulo operator is represented by the symbol '%'. It returns the remainder when operand on the left of the operator is divided by operand on the right. Example:\n",
    "        "
   ]
  },
  {
   "cell_type": "code",
   "execution_count": 4,
   "id": "e02339ae",
   "metadata": {},
   "outputs": [
    {
     "name": "stdout",
     "output_type": "stream",
     "text": [
      "2\n"
     ]
    }
   ],
   "source": [
    "print(7%5)"
   ]
  },
  {
   "cell_type": "markdown",
   "id": "b560c0cf",
   "metadata": {},
   "source": [
    "## 5.What are augmented assignments? Give an example.\n",
    "        \n",
    "        An augmented assignment combines an operator which operate on two operands with an assignment operator. In the below code, line two and line three accomplish the same but line 3 uses augmented assignment instead of two separate operators. \n",
    "              "
   ]
  },
  {
   "cell_type": "code",
   "execution_count": 5,
   "id": "1919196c",
   "metadata": {},
   "outputs": [],
   "source": [
    "x=0\n",
    "x = x + 5\n",
    "x += 5"
   ]
  },
  {
   "cell_type": "markdown",
   "id": "2664c0e6",
   "metadata": {},
   "source": [
    "## 6.What is simultaneous assignment? Give an example. Give an example of when they are used.\n",
    "\n",
    "        Python allows for multiple assignments with a single assignment operator. Such assignment of variables is known as simulaneous assignment.  "
   ]
  },
  {
   "cell_type": "code",
   "execution_count": 6,
   "id": "5a6966e8",
   "metadata": {},
   "outputs": [
    {
     "name": "stdout",
     "output_type": "stream",
     "text": [
      "10\n",
      "20\n"
     ]
    }
   ],
   "source": [
    "x,y = 10,20\n",
    "\n",
    "print(x)\n",
    "print(y)"
   ]
  },
  {
   "cell_type": "markdown",
   "id": "bf7b9857",
   "metadata": {},
   "source": [
    "        Simultaneous assignment can be used for swapping values of two variables. The following example shows the swapping of values of variables with and without simultaneous assignment."
   ]
  },
  {
   "cell_type": "code",
   "execution_count": 7,
   "id": "5b24f85d",
   "metadata": {},
   "outputs": [
    {
     "name": "stdout",
     "output_type": "stream",
     "text": [
      "20\n",
      "10\n"
     ]
    }
   ],
   "source": [
    "Temp = x\n",
    "x = y\n",
    "y = Temp\n",
    "\n",
    "print(x)\n",
    "print(y)"
   ]
  },
  {
   "cell_type": "markdown",
   "id": "3578ea1a",
   "metadata": {},
   "source": [
    "        Same can be achieved without using a third variable:"
   ]
  },
  {
   "cell_type": "code",
   "execution_count": 8,
   "id": "d1986348",
   "metadata": {},
   "outputs": [
    {
     "name": "stdout",
     "output_type": "stream",
     "text": [
      "10\n",
      "20\n"
     ]
    }
   ],
   "source": [
    "x,y = y,x\n",
    "\n",
    "print(x)\n",
    "print(y)"
   ]
  },
  {
   "cell_type": "markdown",
   "id": "783a339c",
   "metadata": {},
   "source": [
    "## 7.Compare ints and floats by answering the following questions:\n",
    "\n",
    "        1. How are ints and floats stored differently?\n",
    "        \n",
    "            Each float value takes a fixed amount of space in memory. On the other hand, python uses a variable number of bits to store integers. This difference is shown below:"
   ]
  },
  {
   "cell_type": "code",
   "execution_count": 9,
   "id": "1d70673e",
   "metadata": {},
   "outputs": [
    {
     "name": "stdout",
     "output_type": "stream",
     "text": [
      "24\n",
      "24\n",
      "24\n",
      "28\n",
      "24\n"
     ]
    }
   ],
   "source": [
    "from sys import getsizeof\n",
    "a = 3432 / 67\n",
    "print(getsizeof(a))\n",
    "\n",
    "b = 22 / 7\n",
    "print(getsizeof(b))\n",
    "\n",
    "c = 27 / 63\n",
    "print(getsizeof(c))\n",
    "\n",
    "#The size of all the float variables remains the same.\n",
    "\n",
    "d = 27\n",
    "print(getsizeof(d))\n",
    "\n",
    "e = 0\n",
    "print(getsizeof(e))\n",
    "\n",
    "#The size of int variables is not fixed. "
   ]
  },
  {
   "cell_type": "markdown",
   "id": "47aa5e9e",
   "metadata": {},
   "source": [
    "        2. What kind of values do ints and floats store?\n",
    "        \n",
    "            int stores the values of integers which comprises of whole positive and whole negative numbers along with the number 'zero'. Float data type stores fractional numbers with decimal points. \n",
    "            "
   ]
  }
 ],
 "metadata": {
  "kernelspec": {
   "display_name": "Python 3 (ipykernel)",
   "language": "python",
   "name": "python3"
  },
  "language_info": {
   "codemirror_mode": {
    "name": "ipython",
    "version": 3
   },
   "file_extension": ".py",
   "mimetype": "text/x-python",
   "name": "python",
   "nbconvert_exporter": "python",
   "pygments_lexer": "ipython3",
   "version": "3.9.12"
  },
  "vscode": {
   "interpreter": {
    "hash": "08b5fd563cbef5190c1b7de549431b5eed459a202162c3ae1e1442865e56bcdb"
   }
  }
 },
 "nbformat": 4,
 "nbformat_minor": 5
}
