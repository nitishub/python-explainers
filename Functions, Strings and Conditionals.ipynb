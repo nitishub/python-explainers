{
 "cells": [
  {
   "cell_type": "markdown",
   "id": "91b78bc4",
   "metadata": {},
   "source": [
    "# Functions"
   ]
  },
  {
   "cell_type": "markdown",
   "id": "ed4cb180",
   "metadata": {},
   "source": [
    "## 1. Why do you need functions? What are the advantages of using a function? Give an example of a function?"
   ]
  },
  {
   "cell_type": "markdown",
   "id": "70678cde",
   "metadata": {},
   "source": [
    "There are three main reasons why a function is needed.\n",
    "\n",
    "1. **Reusability:** Once a function is defined, it can be used it again and again without having to re-write the same code. This saves a lot of time.\n",
    "2. **Abstraction:** You don't have to know how a function works in order to use it. The only time you must know how a function works is when you write it. \n",
    "3. **Debugging:** If a function is written and then while using it somewhere down the line it is found that it does not work for certain cases. Then instead of fixing the entire code, we just need to debug the function.\n",
    "\n",
    "Example: The inbuilt max function finds the maximum value in a list. "
   ]
  },
  {
   "cell_type": "markdown",
   "id": "9c3fe41a",
   "metadata": {},
   "source": [
    "## 2. How can functions make repeated lines of code more general? Give an example."
   ]
  },
  {
   "cell_type": "markdown",
   "id": "e28cb1f0",
   "metadata": {},
   "source": [
    "The following code demonstrates how functions make repeated lines of code more general. Suppose we wish to ask the user's name and welcome them. This has to be done for multiple users. Following is the code for how it can be done without using functions:"
   ]
  },
  {
   "cell_type": "code",
   "execution_count": 1,
   "id": "ba64468b",
   "metadata": {},
   "outputs": [
    {
     "name": "stdout",
     "output_type": "stream",
     "text": [
      "Enter your full name: John Smith\n",
      "Hi John Smith, welcome to EAS503.\n",
      "Enter your full name: John Doe\n",
      "Hi John Doe, welcome to EAS503\n"
     ]
    }
   ],
   "source": [
    "name1 = input(\"Enter your full name: \")\n",
    "print(f\"Hi {name1}, welcome to EAS503.\")\n",
    "\n",
    "#Suppose we want to do the same thing for another user, we will have to write the same code again:\n",
    "name1 = input(\"Enter your full name: \")\n",
    "print(f\"Hi {name1}, welcome to EAS503\")\n"
   ]
  },
  {
   "cell_type": "markdown",
   "id": "beedef9e",
   "metadata": {},
   "source": [
    "If we use a function, we don't have to write the same lines of code again.Instead, we can just call the funciton. "
   ]
  },
  {
   "cell_type": "code",
   "execution_count": 2,
   "id": "84395e76",
   "metadata": {
    "scrolled": true
   },
   "outputs": [
    {
     "name": "stdout",
     "output_type": "stream",
     "text": [
      "Enter your full name: John Smith\n",
      "Hi John Smith, welcome to EAS503.\n",
      "Enter your full name: John Doe\n",
      "Hi John Doe, welcome to EAS503.\n"
     ]
    }
   ],
   "source": [
    "def greet():\n",
    "    name = input(\"Enter your full name: \")\n",
    "    print(f\"Hi {name}, welcome to EAS503.\")\n",
    "    \n",
    "#when we need to welcome a new user, we will simply call the funciton\n",
    "\n",
    "greet()\n",
    "greet()"
   ]
  },
  {
   "cell_type": "markdown",
   "id": "2104642d",
   "metadata": {},
   "source": [
    "## 3. What are input arguments to a function? What is the purpose of the return keyword? Explain the four possible combinations of input arguments and outputs values of a function."
   ]
  },
  {
   "cell_type": "markdown",
   "id": "f0f8988b",
   "metadata": {},
   "source": [
    "Let us define a function 'power' to raise the power of a number x by the exponent y."
   ]
  },
  {
   "cell_type": "code",
   "execution_count": 3,
   "id": "2f87cac8",
   "metadata": {},
   "outputs": [
    {
     "name": "stdout",
     "output_type": "stream",
     "text": [
      "256\n"
     ]
    }
   ],
   "source": [
    "def power(x,y):\n",
    "    return x**y\n",
    "\n",
    "#let's call the function to calculated 2 raised to the power 8\n",
    "\n",
    "print(power(2,8))"
   ]
  },
  {
   "cell_type": "markdown",
   "id": "1d1bb773",
   "metadata": {},
   "source": [
    "Let's think of a function as a machine which takes some input and converts it to an output. The input of this machine is known as the arguments of a function. In the above case, x and y are the arguments of the 'power' function. The return statement is used to give the output of this machine. In the above example the return statement is used to specify that x raised to the power 8 is meant to be the output of the funciton."
   ]
  },
  {
   "cell_type": "markdown",
   "id": "566246f4",
   "metadata": {},
   "source": [
    "However, A python function is not required to have either arguments or a return statement. There are four possible cominations input arguments and output values of a function as explained below with examples:"
   ]
  },
  {
   "cell_type": "code",
   "execution_count": 4,
   "id": "ed2cc39b",
   "metadata": {},
   "outputs": [],
   "source": [
    "#1. Function with Arguments and a return value.\n",
    "\n",
    "def remainder(x,y):\n",
    "    return (x%y)\n",
    "\n",
    "#2. Functions with Arguments  but no return value. \n",
    "\n",
    "def printname(fname,lname):\n",
    "    print(f'Fullname: {fname} {lname}')\n",
    "    \n",
    "#3 Function with no Arguments but a return value. \n",
    "\n",
    "def calculatearea1():\n",
    "    length = int(input('Enter length: '))\n",
    "    breadth = int(input('Enter breadth: '))\n",
    "    return length*breadth\n",
    "\n",
    "#4 Function with no Arguments and no return value.\n",
    "\n",
    "def calculatearea2():\n",
    "    length = int(input('Enter length: '))\n",
    "    breadth = int(input('Enter breadth: '))\n",
    "    print(length*breadth)\n"
   ]
  },
  {
   "cell_type": "markdown",
   "id": "a2dc74db",
   "metadata": {},
   "source": [
    "## 4. What are built-in functions?"
   ]
  },
  {
   "cell_type": "markdown",
   "id": "27bf139d",
   "metadata": {},
   "source": [
    "A function that is already defined in a programming language and can be used readily is known as a built-in funciton. Example:"
   ]
  },
  {
   "cell_type": "code",
   "execution_count": 5,
   "id": "3cd091e0",
   "metadata": {},
   "outputs": [
    {
     "name": "stdout",
     "output_type": "stream",
     "text": [
      "1\n",
      "9\n"
     ]
    }
   ],
   "source": [
    "# abs() returns the abosolute value of a number\n",
    "\n",
    "print(abs(-1))\n",
    "\n",
    "# max() returns the maximum value of sequence of numbers\n",
    "\n",
    "print(max(4,2,7,4,9))"
   ]
  },
  {
   "cell_type": "markdown",
   "id": "de46cd42",
   "metadata": {},
   "source": [
    "## 5. What is a local variable and how does it relate to a function?"
   ]
  },
  {
   "cell_type": "markdown",
   "id": "b3a58d39",
   "metadata": {},
   "source": [
    "Let us understand the concept of local variable and scope of a varibale through the following example:"
   ]
  },
  {
   "cell_type": "code",
   "execution_count": 6,
   "id": "f028e15b",
   "metadata": {},
   "outputs": [
    {
     "ename": "NameError",
     "evalue": "name 'total' is not defined",
     "output_type": "error",
     "traceback": [
      "\u001b[1;31m---------------------------------------------------------------------------\u001b[0m",
      "\u001b[1;31mNameError\u001b[0m                                 Traceback (most recent call last)",
      "Input \u001b[1;32mIn [6]\u001b[0m, in \u001b[0;36m<cell line: 14>\u001b[1;34m()\u001b[0m\n\u001b[0;32m     10\u001b[0m     \u001b[38;5;28;01mreturn\u001b[39;00m total \u001b[38;5;241m/\u001b[39m count\n\u001b[0;32m     12\u001b[0m avg([\u001b[38;5;241m1\u001b[39m,\u001b[38;5;241m4\u001b[39m,\u001b[38;5;241m6\u001b[39m])\n\u001b[1;32m---> 14\u001b[0m \u001b[38;5;28mprint\u001b[39m(\u001b[43mtotal\u001b[49m)\n",
      "\u001b[1;31mNameError\u001b[0m: name 'total' is not defined"
     ]
    }
   ],
   "source": [
    "#Let us define a function to find the average of numbers in a list. \n",
    "\n",
    "def avg(lst):\n",
    "    total = 0\n",
    "    count = 0\n",
    "    for num in lst:\n",
    "        total += num\n",
    "        count += 1\n",
    "        \n",
    "    return total / count\n",
    "\n",
    "avg([1,4,6])\n",
    "\n",
    "print(total)\n",
    "\n",
    "# When we try to access the variable total outside the function, we get an error saying 'name 'total' is not defined'.\n",
    "# let's try to understand why this happended by defining concepts of local variable and scope of a varibale:\n"
   ]
  },
  {
   "cell_type": "markdown",
   "id": "bad4acb8",
   "metadata": {},
   "source": [
    "**Scope of a Variable:** The area of the program in which a variable can be accessed is known as the scope of that variable. The scope of the varible spans from the line in which it is defined to the end of the funciton itself.\n",
    "\n",
    "**Local Variable** A variable declared inside a particular funciton is known as a local variable. The scope of a local variable lies inside the funciton and it cannot be accessed outside the funciton. \n",
    "\n",
    "This is why when we try to access the 'total' variable outside the function results in a NameError. It's as if the python doesn't know about this variable. The python knows about this variable but only inside the function but not outside of it. "
   ]
  },
  {
   "cell_type": "markdown",
   "id": "781d32ae",
   "metadata": {},
   "source": [
    "## 6. What is the default return value of a function? When is the default return value returned?"
   ]
  },
  {
   "cell_type": "markdown",
   "id": "0c086326",
   "metadata": {},
   "source": [
    "The default return value of a function is the 'NoneType' object. The default return value is returned when there is no return statement or  nothing is mentioned after the 'return' keyword. "
   ]
  },
  {
   "cell_type": "markdown",
   "id": "7b18893e",
   "metadata": {},
   "source": [
    "# Strings"
   ]
  },
  {
   "cell_type": "markdown",
   "id": "ebc63ee8",
   "metadata": {},
   "source": [
    "## 1.What is the meaning of the + and * operators for strings?"
   ]
  },
  {
   "cell_type": "markdown",
   "id": "f58aa62d",
   "metadata": {},
   "source": [
    "The '+' operator concatenates two strings. Whereas the * operator repeats the string n times where n is the number on the right of the * operator. Example: "
   ]
  },
  {
   "cell_type": "code",
   "execution_count": 7,
   "id": "d872534b",
   "metadata": {},
   "outputs": [
    {
     "name": "stdout",
     "output_type": "stream",
     "text": [
      "John Smith\n",
      "JohnJohnJohn\n"
     ]
    }
   ],
   "source": [
    "fname = 'John'\n",
    "lname = 'Smith'\n",
    "\n",
    "fullname = 'John '+'Smith'\n",
    "print(fullname)\n",
    "\n",
    "fname_three_times = fname*3\n",
    "print(fname_three_times)\n"
   ]
  },
  {
   "cell_type": "markdown",
   "id": "599aec80",
   "metadata": {},
   "source": [
    "## 2. What does the length of an empty string and how can you determine that?"
   ]
  },
  {
   "cell_type": "markdown",
   "id": "4d3c687c",
   "metadata": {},
   "source": [
    "The length of an empty string is 0. The same can be verified using the len() funtion."
   ]
  },
  {
   "cell_type": "code",
   "execution_count": 8,
   "id": "80377fad",
   "metadata": {},
   "outputs": [
    {
     "name": "stdout",
     "output_type": "stream",
     "text": [
      "0\n"
     ]
    }
   ],
   "source": [
    "s = ''\n",
    "print(len(s))"
   ]
  },
  {
   "cell_type": "markdown",
   "id": "5efd23f7",
   "metadata": {},
   "source": [
    "## 3. How can you convert an int string and a float string to int and float, respectively?"
   ]
  },
  {
   "cell_type": "markdown",
   "id": "ce826719",
   "metadata": {},
   "source": [
    "An string variable carrying an integer value can be converted to an int value using the int() function. \n",
    "An string variable carrying an decimal value can be converted to a float value using the float() function. Such operations which involve converting one datatype to another is known as type casting. "
   ]
  },
  {
   "cell_type": "code",
   "execution_count": 9,
   "id": "25ce7311",
   "metadata": {},
   "outputs": [
    {
     "name": "stdout",
     "output_type": "stream",
     "text": [
      "<class 'int'>\n",
      "<class 'float'>\n"
     ]
    }
   ],
   "source": [
    "intstr = '3'\n",
    "floatstr = '3.5'\n",
    "\n",
    "print(type(int(intstr)))\n",
    "print(type(float(floatstr)))\n"
   ]
  },
  {
   "cell_type": "markdown",
   "id": "3b3f3c2b",
   "metadata": {},
   "source": [
    "## 4. What is the different between x and y in x = '3.14' and y = 3.14?"
   ]
  },
  {
   "cell_type": "code",
   "execution_count": 10,
   "id": "3747d74e",
   "metadata": {},
   "outputs": [
    {
     "name": "stdout",
     "output_type": "stream",
     "text": [
      "<class 'str'>\n",
      "<class 'float'>\n"
     ]
    }
   ],
   "source": [
    "x = '3.14'\n",
    "y = 3.14\n",
    "\n",
    "print(type(x))\n",
    "print(type(y))\n",
    "\n",
    "# x is a string variable whereas y is a float variable"
   ]
  },
  {
   "cell_type": "markdown",
   "id": "8c37d3a8",
   "metadata": {},
   "source": [
    "## 5. What happens when you try to use a '+' operator between a string and an int. "
   ]
  },
  {
   "cell_type": "markdown",
   "id": "d2243b1a",
   "metadata": {},
   "source": [
    "`var1 = 'NA'\n",
    " var2 = 3\n",
    " var3 = var1 + var2`"
   ]
  },
  {
   "cell_type": "markdown",
   "id": "c9d12bf4",
   "metadata": {},
   "source": [
    "The above code will throw a TypeError. Since, var1 is followed by the '+' operator, python expects us to pass a string value so that it can concatenate it to var1. Instead we pass it an int value and hence the error. "
   ]
  },
  {
   "cell_type": "markdown",
   "id": "8cd8df55",
   "metadata": {},
   "source": [
    "## 6. When using the oldest string formatting method, how can you concatenate a string and a number? Give an example."
   ]
  },
  {
   "cell_type": "markdown",
   "id": "4442cab2",
   "metadata": {},
   "source": [
    "In the old string formatting, width precision and type must be specified in this format: **(width).(precision)(type)**. Type is specified using symbols such as %d, %s, %f etc. Following is an example."
   ]
  },
  {
   "cell_type": "code",
   "execution_count": 11,
   "id": "59cd34cc",
   "metadata": {},
   "outputs": [
    {
     "name": "stdout",
     "output_type": "stream",
     "text": [
      "One is 1\n"
     ]
    }
   ],
   "source": [
    "x= 'One is '\n",
    "y=1\n",
    "\n",
    "print(\"%s%s\" % (x, y))"
   ]
  },
  {
   "cell_type": "markdown",
   "id": "b39ce56b",
   "metadata": {},
   "source": [
    "## 7. What is the purpose of special characters and how do you use them?"
   ]
  },
  {
   "cell_type": "markdown",
   "id": "7b40e7d5",
   "metadata": {},
   "source": [
    "Sometimes, the purpose of special characters is to escape certain characters which have a special meaning to python. For example, if we wish to type the single inverted comma in a string that is declared using single inverted commas, then we must use the speacial character `'\\''` to do so. `'\\\"'` is used to escape the doubel inverted commas. `'\\\\'` is used to escape the `'\\'` character itself. \n",
    "Other times, the special character may be used to introduce white space such as in the case of `'\\n'` and `'\\t'`."
   ]
  },
  {
   "cell_type": "markdown",
   "id": "c14cf1a8",
   "metadata": {},
   "source": [
    "## 8. What is a string template and how are they used? Give an example."
   ]
  },
  {
   "cell_type": "markdown",
   "id": "f0acbb68",
   "metadata": {},
   "source": [
    "A string template is a string with placeholders. A string template can be used over and over again by passing the desired varibles to the placeholders. A string template can easily be made with the .format method. Example:"
   ]
  },
  {
   "cell_type": "code",
   "execution_count": 12,
   "id": "e0f955b2",
   "metadata": {},
   "outputs": [
    {
     "name": "stdout",
     "output_type": "stream",
     "text": [
      "Enter your name: John\n",
      "Enter your favourite food: Pizza\n",
      "Hello John! Your favourite food is Pizza.\n"
     ]
    }
   ],
   "source": [
    "name = input('Enter your name: ')\n",
    "favfood = input('Enter your favourite food: ')\n",
    "\n",
    "template= 'Hello {}! Your favourite food is {}.'\n",
    "print(template.format(name, favfood))"
   ]
  },
  {
   "cell_type": "markdown",
   "id": "baddb357",
   "metadata": {},
   "source": [
    "## 9. How are indices used with the newer string formatting methods? "
   ]
  },
  {
   "cell_type": "markdown",
   "id": "d1fc9ea8",
   "metadata": {},
   "source": [
    "Indices are used to specify the order in which the variables will be put in the placeholders. Example:"
   ]
  },
  {
   "cell_type": "code",
   "execution_count": 13,
   "id": "4de8f4c8",
   "metadata": {},
   "outputs": [
    {
     "name": "stdout",
     "output_type": "stream",
     "text": [
      "There are 160 students in EAS03\n",
      "There are 160 students in EAS03\n"
     ]
    }
   ],
   "source": [
    "course_number = 'EAS03'\n",
    "no_of_students = 160\n",
    "\n",
    "s1 = 'There are {} students in {}'.format(no_of_students, course_number)\n",
    "print(s1)\n",
    "\n",
    "# the above statement is same as:\n",
    "s2 = 'There are {1} students in {0}'.format(course_number, no_of_students) \n",
    "print(s2)"
   ]
  },
  {
   "cell_type": "markdown",
   "id": "147acd28",
   "metadata": {},
   "source": [
    "## 10. What are the things that fstring allows you to do?"
   ]
  },
  {
   "cell_type": "markdown",
   "id": "6b23388e",
   "metadata": {},
   "source": [
    "### (i) Specify Width"
   ]
  },
  {
   "cell_type": "markdown",
   "id": "f1ead2ad",
   "metadata": {},
   "source": [
    "In fstring, the width is specified after the colon in the placeholder. The number entered will determine the size of the string in terms of the number of characters. The size specified is less than the actual size of the argument, then the python will ignore the width argument and size will remain same as the original size of the argument."
   ]
  },
  {
   "cell_type": "code",
   "execution_count": 14,
   "id": "1c21401e",
   "metadata": {},
   "outputs": [
    {
     "name": "stdout",
     "output_type": "stream",
     "text": [
      "There are          160 students in EAS03       \n"
     ]
    }
   ],
   "source": [
    "course_number = 'EAS03'\n",
    "no_of_students = 160\n",
    "\n",
    "s = f'There are {no_of_students:12} students in {course_number:12}'\n",
    "print(s)"
   ]
  },
  {
   "cell_type": "markdown",
   "id": "895cf433",
   "metadata": {},
   "source": [
    "### (ii) Align data to left right or centre"
   ]
  },
  {
   "cell_type": "markdown",
   "id": "7ba36dcc",
   "metadata": {},
   "source": [
    "We can align the argument by using '<' , '>', and '^' characters for left, right and centre respectively.  The default alignment of string is left-aligned and that of numbers is right-aligned. The alignment character is preceded by the semi-colon and the index."
   ]
  },
  {
   "cell_type": "code",
   "execution_count": 15,
   "id": "cd88ebb8",
   "metadata": {},
   "outputs": [
    {
     "name": "stdout",
     "output_type": "stream",
     "text": [
      "There are 160          students in        EAS03\n"
     ]
    }
   ],
   "source": [
    "course_number = 'EAS03'\n",
    "no_of_students = 160\n",
    "\n",
    "s = f'There are {no_of_students:<12} students in {course_number:>12}' \n",
    "print(s)\n",
    "\n",
    "#notice that the alignment is different from the default alignment of strings and numbers."
   ]
  },
  {
   "cell_type": "markdown",
   "id": "c7c64de2",
   "metadata": {},
   "source": [
    "### (iii) Padding characters."
   ]
  },
  {
   "cell_type": "markdown",
   "id": "36081f8d",
   "metadata": {},
   "source": [
    "The default padding character is the space character. If we want to set it to some other value, it can be done by specifying it immediately after the alignment character and before the width. "
   ]
  },
  {
   "cell_type": "code",
   "execution_count": 16,
   "id": "953ac1a5",
   "metadata": {},
   "outputs": [
    {
     "name": "stdout",
     "output_type": "stream",
     "text": [
      "000123000\n"
     ]
    }
   ],
   "source": [
    "x = 123\n",
    "\n",
    "s = f'{x:^09}'\n",
    "print(s)"
   ]
  },
  {
   "cell_type": "markdown",
   "id": "63b41905",
   "metadata": {},
   "source": [
    "### (iv) Specify precision for floating values"
   ]
  },
  {
   "cell_type": "markdown",
   "id": "53857a70",
   "metadata": {},
   "source": [
    "Precision specifies the the number of decimal places for the float type variables. It is placed after the width-specifier and is preceded by a '.' as shown below:"
   ]
  },
  {
   "cell_type": "code",
   "execution_count": 17,
   "id": "f0a455a7",
   "metadata": {},
   "outputs": [
    {
     "name": "stdout",
     "output_type": "stream",
     "text": [
      "3.14000000\n"
     ]
    }
   ],
   "source": [
    "PI = 3.1415\n",
    "s = f'{PI:<010.2f}'\n",
    "print(s)\n"
   ]
  },
  {
   "cell_type": "markdown",
   "id": "806a8e62",
   "metadata": {},
   "source": [
    "### (v) Add commas for easier viewing"
   ]
  },
  {
   "cell_type": "markdown",
   "id": "3ec9ae15",
   "metadata": {},
   "source": [
    "This can be achieved by putting a comma immediately after the width specifier. "
   ]
  },
  {
   "cell_type": "code",
   "execution_count": 18,
   "id": "3ac912f9",
   "metadata": {},
   "outputs": [
    {
     "name": "stdout",
     "output_type": "stream",
     "text": [
      "-----123,456.00-----\n"
     ]
    }
   ],
   "source": [
    "x = 123456\n",
    "\n",
    "s = f'{x:-^20,.2f}'\n",
    "print(s)"
   ]
  },
  {
   "cell_type": "markdown",
   "id": "71285f9c",
   "metadata": {},
   "source": [
    "## 11. Explain what the .strip() method does?"
   ]
  },
  {
   "cell_type": "markdown",
   "id": "646b702b",
   "metadata": {},
   "source": [
    ".strip() method returns a copy of the string after removing all the leading and trailing characters specified in the argument. If nothing is specified in the argument, .strip() removes all the leading and trailing whitespaces including the space character, the tab character and the newline character. Example:"
   ]
  },
  {
   "cell_type": "code",
   "execution_count": 19,
   "id": "16cfd411",
   "metadata": {},
   "outputs": [
    {
     "name": "stdout",
     "output_type": "stream",
     "text": [
      "EAS503ES\n",
      "503\n"
     ]
    }
   ],
   "source": [
    "s = '   EAS503ES   \\t \\n'\n",
    "x = s.strip()\n",
    "print(x)\n",
    "y= x.strip('EAS')\n",
    "print(y)\n",
    "\n"
   ]
  },
  {
   "cell_type": "markdown",
   "id": "44d68cce",
   "metadata": {},
   "source": [
    "## 12. What is the purpose of the 'in' operator for strings?"
   ]
  },
  {
   "cell_type": "markdown",
   "id": "6abb3e35",
   "metadata": {},
   "source": [
    "The purpose of the in operator is to check whether a character or a series of characters is there in a given string in the same order."
   ]
  },
  {
   "cell_type": "code",
   "execution_count": 20,
   "id": "146e30ec",
   "metadata": {},
   "outputs": [
    {
     "name": "stdout",
     "output_type": "stream",
     "text": [
      "True\n"
     ]
    }
   ],
   "source": [
    "print('EAS' in 'EAS503')"
   ]
  },
  {
   "cell_type": "markdown",
   "id": "031a45cc",
   "metadata": {},
   "source": [
    "# Conditionals"
   ]
  },
  {
   "cell_type": "markdown",
   "id": "8eff8d3a",
   "metadata": {},
   "source": [
    "## 1. What values in Python are considered false?"
   ]
  },
  {
   "cell_type": "markdown",
   "id": "b2c08f55",
   "metadata": {},
   "source": [
    "Following values in Python evaluate to a boolean False:\n",
    "* NoneType Object\n",
    "* Any empty Sequences: Empty lists,  empty tuples, emply dictionaries etc. \n",
    "* Any zero value: 0, 0.0\n",
    "* Anything whose len() returns 0\n",
    "* Empty objects    "
   ]
  },
  {
   "cell_type": "markdown",
   "id": "31332fd1",
   "metadata": {},
   "source": [
    "## 2. What is a chain comparison?"
   ]
  },
  {
   "cell_type": "markdown",
   "id": "85ce2517",
   "metadata": {},
   "source": [
    "Multiple comparison operators can be chained together to form a chain comparison. Example:"
   ]
  },
  {
   "cell_type": "code",
   "execution_count": 21,
   "id": "f8d2127a",
   "metadata": {},
   "outputs": [
    {
     "name": "stdout",
     "output_type": "stream",
     "text": [
      "True\n",
      "True\n"
     ]
    }
   ],
   "source": [
    "x=5\n",
    "\n",
    "#checking whether x lies between 0 and 10, both excluded. \n",
    "\n",
    "print( x > 0 and x < 10)\n",
    "\n",
    "#same can be accomplished by chaining the comparison operators.\n",
    "\n",
    "print(0 < x < 10)"
   ]
  },
  {
   "cell_type": "markdown",
   "id": "1994a31a",
   "metadata": {},
   "source": [
    "## 3. What is the meaning of short-circuit evaluation?"
   ]
  },
  {
   "cell_type": "markdown",
   "id": "6e56f2d5",
   "metadata": {},
   "source": [
    "While evaluating boolean expressions, python reads from left to right. Once it has enough information to evaluate the expression, it stops even if it has not evaluated the rest of the statement. "
   ]
  },
  {
   "cell_type": "code",
   "execution_count": 22,
   "id": "0c80e5e1",
   "metadata": {},
   "outputs": [
    {
     "name": "stdout",
     "output_type": "stream",
     "text": [
      "True\n"
     ]
    }
   ],
   "source": [
    "x = True\n",
    "y = True\n",
    "z = False\n",
    "\n",
    "print(x or (y and z))\n",
    "\n",
    "#'(y and z)' will not be evauated becuase if atleast one value is true in an 'or' statement, the expression evaluates to true.\n",
    "# Since x is already True, that makes the entire expression evaluate to True and python does not need to evaluate (y and z) \n",
    "# because it does not matter what it evaluates to "
   ]
  },
  {
   "cell_type": "markdown",
   "id": "6fef010a",
   "metadata": {},
   "source": [
    "## 4. Why is the expression 'A' < 'a' true?"
   ]
  },
  {
   "cell_type": "markdown",
   "id": "1e51b2a0",
   "metadata": {},
   "source": [
    "In order to compare strings, python first converts them to their unicode number and then compares the unicode number. "
   ]
  },
  {
   "cell_type": "code",
   "execution_count": 23,
   "id": "fd013ffe",
   "metadata": {},
   "outputs": [
    {
     "name": "stdout",
     "output_type": "stream",
     "text": [
      "65\n",
      "97\n"
     ]
    }
   ],
   "source": [
    "print(ord('A'))\n",
    "print(ord('a'))"
   ]
  },
  {
   "cell_type": "markdown",
   "id": "1bf6d9fc",
   "metadata": {},
   "source": [
    "Since, 65 is less than 97, the given expression evaluates to true. "
   ]
  },
  {
   "cell_type": "code",
   "execution_count": 24,
   "id": "a232c1e7",
   "metadata": {},
   "outputs": [
    {
     "name": "stdout",
     "output_type": "stream",
     "text": [
      "True\n"
     ]
    }
   ],
   "source": [
    "print('A'<'a')"
   ]
  }
 ],
 "metadata": {
  "kernelspec": {
   "display_name": "Python 3 (ipykernel)",
   "language": "python",
   "name": "python3"
  },
  "language_info": {
   "codemirror_mode": {
    "name": "ipython",
    "version": 3
   },
   "file_extension": ".py",
   "mimetype": "text/x-python",
   "name": "python",
   "nbconvert_exporter": "python",
   "pygments_lexer": "ipython3",
   "version": "3.9.12"
  }
 },
 "nbformat": 4,
 "nbformat_minor": 5
}
