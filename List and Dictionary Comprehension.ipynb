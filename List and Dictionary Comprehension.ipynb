{
 "cells": [
  {
   "cell_type": "markdown",
   "id": "a3cf7fa8",
   "metadata": {},
   "source": [
    "# List and Dictionary Comprehension"
   ]
  },
  {
   "cell_type": "markdown",
   "id": "93fb77f3",
   "metadata": {},
   "source": [
    "### 1. There are three variations of list/dictionary comprehension: no conditional, if conditional, and if/else conditional. Explain these variations. "
   ]
  },
  {
   "cell_type": "markdown",
   "id": "3abe1e09",
   "metadata": {},
   "source": [
    "**1. No Conditional:**"
   ]
  },
  {
   "cell_type": "markdown",
   "id": "cd5216c5",
   "metadata": {},
   "source": [
    "Given a list of numbers, the objective is to create a list/dictionary of the squares of the numbers in the list."
   ]
  },
  {
   "cell_type": "code",
   "execution_count": 1,
   "id": "f3cd6e67",
   "metadata": {},
   "outputs": [
    {
     "name": "stdout",
     "output_type": "stream",
     "text": [
      "[1, 4, 9, 16, 25, 36, 49, 64, 81, 100]\n"
     ]
    }
   ],
   "source": [
    "#1. Using simple list\n",
    "\n",
    "numlist = list(range(1,11))\n",
    "\n",
    "squared = []\n",
    "\n",
    "for number in numlist:\n",
    "    squared.append(number**2)\n",
    "    \n",
    "print(squared)"
   ]
  },
  {
   "cell_type": "code",
   "execution_count": 2,
   "id": "b3484b69",
   "metadata": {},
   "outputs": [
    {
     "name": "stdout",
     "output_type": "stream",
     "text": [
      "[1, 4, 9, 16, 25, 36, 49, 64, 81, 100]\n"
     ]
    }
   ],
   "source": [
    "#2. Using list comprehension\n",
    "\n",
    "squared = [x**2 for x in numlist]\n",
    "\n",
    "print(squared)"
   ]
  },
  {
   "cell_type": "code",
   "execution_count": 3,
   "id": "1bd23a63",
   "metadata": {},
   "outputs": [
    {
     "name": "stdout",
     "output_type": "stream",
     "text": [
      "{1: 1, 2: 4, 3: 9, 4: 16, 5: 25, 6: 36, 7: 49, 8: 64, 9: 81, 10: 100}\n"
     ]
    }
   ],
   "source": [
    "#3. Using simple dictionary\n",
    "\n",
    "squared = {}\n",
    "\n",
    "for key, value in enumerate(numlist, start =1):\n",
    "    squared[key] = value**2\n",
    "    \n",
    "print(squared)"
   ]
  },
  {
   "cell_type": "code",
   "execution_count": 4,
   "id": "4864d61d",
   "metadata": {},
   "outputs": [
    {
     "name": "stdout",
     "output_type": "stream",
     "text": [
      "{1: 1, 2: 4, 3: 9, 4: 16, 5: 25, 6: 36, 7: 49, 8: 64, 9: 81, 10: 100}\n"
     ]
    }
   ],
   "source": [
    "#4. Using dicitonary comprehension\n",
    "\n",
    "squared = {key:value**2 for key, value in enumerate(numlist, start = 1)}\n",
    "\n",
    "print(squared)"
   ]
  },
  {
   "cell_type": "markdown",
   "id": "8fa25740",
   "metadata": {},
   "source": [
    "**2. If Conditional:**"
   ]
  },
  {
   "cell_type": "markdown",
   "id": "672c64f9",
   "metadata": {},
   "source": [
    "Given a list of numbers, the objective is to create a list/dictionary of the cubes of the numbers in the list if the number is odd and ignore the number if it is even."
   ]
  },
  {
   "cell_type": "code",
   "execution_count": 5,
   "id": "28a780c0",
   "metadata": {},
   "outputs": [
    {
     "name": "stdout",
     "output_type": "stream",
     "text": [
      "[1, 27, 125, 343, 729]\n"
     ]
    }
   ],
   "source": [
    "#1. Using simple list\n",
    "\n",
    "odds_cubed = []\n",
    "\n",
    "for number in numlist:\n",
    "    if number%2 != 0:\n",
    "        odds_cubed.append(number**3)\n",
    "        \n",
    "print(odds_cubed)"
   ]
  },
  {
   "cell_type": "code",
   "execution_count": 6,
   "id": "ab218fb5",
   "metadata": {},
   "outputs": [
    {
     "name": "stdout",
     "output_type": "stream",
     "text": [
      "[1, 27, 125, 343, 729]\n"
     ]
    }
   ],
   "source": [
    "#2. Using list comprehension\n",
    "\n",
    "odds_cubed = [x**3 for x in numlist if x%2 != 0]\n",
    "\n",
    "print(odds_cubed)"
   ]
  },
  {
   "cell_type": "code",
   "execution_count": 7,
   "id": "d08dfab4",
   "metadata": {},
   "outputs": [
    {
     "name": "stdout",
     "output_type": "stream",
     "text": [
      "{1: 1, 3: 27, 5: 125, 7: 343, 9: 729}\n"
     ]
    }
   ],
   "source": [
    "#3. Using simple dictionary\n",
    "\n",
    "odds_cubed = {}\n",
    "\n",
    "for key,value in enumerate(numlist, start = 1):\n",
    "    if key%2 != 0:\n",
    "        odds_cubed[key] = value**3\n",
    "        \n",
    "print(odds_cubed)"
   ]
  },
  {
   "cell_type": "code",
   "execution_count": 8,
   "id": "5c29a27b",
   "metadata": {},
   "outputs": [
    {
     "name": "stdout",
     "output_type": "stream",
     "text": [
      "{1: 1, 3: 27, 5: 125, 7: 343, 9: 729}\n"
     ]
    }
   ],
   "source": [
    "#4. Using dicitonary comprehension\n",
    "\n",
    "odds_cubed = {key: value**3 for key, value in enumerate(numlist, start = 1) if key%2 != 0}\n",
    "\n",
    "print(odds_cubed)"
   ]
  },
  {
   "cell_type": "markdown",
   "id": "a6a15b9c",
   "metadata": {},
   "source": [
    "**3. If/Else Conditional:**"
   ]
  },
  {
   "cell_type": "markdown",
   "id": "1c09198a",
   "metadata": {},
   "source": [
    "Given a list of numbers, the objective is to create a list/dictionary of the cubes of the numbers in the list if the number is odd and squares of the number if it is even."
   ]
  },
  {
   "cell_type": "code",
   "execution_count": 9,
   "id": "d8873519",
   "metadata": {},
   "outputs": [
    {
     "name": "stdout",
     "output_type": "stream",
     "text": [
      "[1, 4, 27, 16, 125, 36, 343, 64, 729, 100]\n"
     ]
    }
   ],
   "source": [
    "#1. Using simple list\n",
    "\n",
    "odd_even = []\n",
    "\n",
    "for number in numlist:\n",
    "    if number%2 == 0:\n",
    "        odd_even.append(number**2)\n",
    "    else:\n",
    "        odd_even.append(number**3)\n",
    "        \n",
    "print(odd_even)"
   ]
  },
  {
   "cell_type": "code",
   "execution_count": 10,
   "id": "06e21557",
   "metadata": {},
   "outputs": [
    {
     "name": "stdout",
     "output_type": "stream",
     "text": [
      "[1, 4, 27, 16, 125, 36, 343, 64, 729, 100]\n"
     ]
    }
   ],
   "source": [
    "#2. Using list comprehension\n",
    "\n",
    "odd_even = [x**2 if x%2 == 0 else x**3 for x in numlist]\n",
    "\n",
    "print(odd_even)"
   ]
  },
  {
   "cell_type": "code",
   "execution_count": 11,
   "id": "b7c07d5e",
   "metadata": {},
   "outputs": [
    {
     "name": "stdout",
     "output_type": "stream",
     "text": [
      "{1: 1, 2: 4, 3: 27, 4: 16, 5: 125, 6: 36, 7: 343, 8: 64, 9: 729, 10: 100}\n"
     ]
    }
   ],
   "source": [
    "#3. Using simple dictionary\n",
    "\n",
    "odd_even = {}\n",
    "\n",
    "for key, value in enumerate(numlist, start = 1):\n",
    "    if key%2 == 0:\n",
    "        odd_even[key] = value**2\n",
    "    else:\n",
    "        odd_even[key] = value**3\n",
    "        \n",
    "print(odd_even)"
   ]
  },
  {
   "cell_type": "code",
   "execution_count": 12,
   "id": "8c9bb4a6",
   "metadata": {},
   "outputs": [
    {
     "name": "stdout",
     "output_type": "stream",
     "text": [
      "{1: 1, 2: 4, 3: 27, 4: 16, 5: 125, 6: 36, 7: 343, 8: 64, 9: 729, 10: 100}\n"
     ]
    }
   ],
   "source": [
    "#4. Using dicitonary comprehension\n",
    "\n",
    "odd_even = { key : value**2 if key%2 == 0 else value**3 for key, value in enumerate(numlist, start = 1)}\n",
    "\n",
    "print(odd_even)"
   ]
  },
  {
   "cell_type": "markdown",
   "id": "3042a139",
   "metadata": {},
   "source": [
    "### 2. A person comes to you and says that they used Python to simulate 10 coin tosses and got observed 7 heads and 3 tails. They tell you that something is wrong with Python. Are they correct? Explain in detail."
   ]
  },
  {
   "cell_type": "markdown",
   "id": "18ce783b",
   "metadata": {},
   "source": [
    "They are most probabily using the random module to simulate the coin toss. While in a small sample space of 10 coin tosses, it is possible to see results which are inconsistent with the expected probabilities of heads and tails, in the longer run the probabilies will approximate to the expected probabilities of getting heads and tails. The same is demonstrated in the following example:"
   ]
  },
  {
   "cell_type": "code",
   "execution_count": 13,
   "id": "8edf9714",
   "metadata": {},
   "outputs": [],
   "source": [
    "def toss(n):\n",
    "    \"\"\"This function will simulate the coin toss and store the result as a string\"\"\"\n",
    "    \n",
    "    import random \n",
    "\n",
    "    s = ''\n",
    "\n",
    "    for _ in range(n):\n",
    "\n",
    "        s += random.choice(['H','T'])\n",
    "\n",
    "    return s"
   ]
  },
  {
   "cell_type": "code",
   "execution_count": 14,
   "id": "2cdfecd1",
   "metadata": {},
   "outputs": [
    {
     "name": "stdout",
     "output_type": "stream",
     "text": [
      "(0.2, 0.8)\n",
      "(0.51, 0.49)\n",
      "(0.497, 0.503)\n",
      "(0.498, 0.502)\n",
      "(0.49911, 0.50089)\n"
     ]
    }
   ],
   "source": [
    "def calc_prob(n):\n",
    "    x = toss(n)\n",
    "    ph = 0\n",
    "    pt = 0\n",
    "    for l in x:\n",
    "        if l == 'H':\n",
    "            ph += 1\n",
    "        else:\n",
    "            pt += 1\n",
    "            \n",
    "    ph /= n\n",
    "    pt /= n\n",
    "    \n",
    "    return( ph, pt)\n",
    "\n",
    "for s in range(1,6):\n",
    "    print(calc_prob(10**s))"
   ]
  },
  {
   "cell_type": "markdown",
   "id": "1a47cb21",
   "metadata": {},
   "source": [
    "### 3. Explain the purpose of continue and break in looping."
   ]
  },
  {
   "cell_type": "markdown",
   "id": "f71746fe",
   "metadata": {},
   "source": [
    "**1. Continue:** The continue statement forces python to not execute the rest of the body of the loop and return back to the loop condition. \n",
    "\n",
    "**2. Break:** The break statement forces python to not execute the rest of the body of the loop and exit the loop altogether. "
   ]
  },
  {
   "cell_type": "markdown",
   "id": "edf51e27",
   "metadata": {},
   "source": [
    "### 4. Assume there is a csv file whose first line is the column headers and the rest of the rows are values. How can you use zip to create a list in which each element is a dictionary whose keys are the column headers and values are the values from the rows? "
   ]
  },
  {
   "cell_type": "code",
   "execution_count": 15,
   "id": "81e6b12f",
   "metadata": {},
   "outputs": [
    {
     "name": "stdout",
     "output_type": "stream",
     "text": [
      "{'last_name': 'Weaver', 'first_name': 'Michael', 'email': 'xdunn@hotmail.com', 'country': 'Nepal', 'account': 'QVJP6465242365388'}\n",
      "{'last_name': 'Owens', 'first_name': 'Jackson', 'email': 'iedwards@yahoo.com', 'country': 'Kazakhstan', 'account': 'FVQZ0955529767455'}\n",
      "{'last_name': 'Gilmore', 'first_name': 'Patrick', 'email': 'arogers@smith.com', 'country': 'Mauritius', 'account': 'QFIM0905182880347'}\n",
      "{'last_name': 'Perez', 'first_name': 'Jeffrey', 'email': 'plewis@chavez.com', 'country': 'New Zealand', 'account': 'YWOT0997131632248'}\n",
      "{'last_name': 'Thomas', 'first_name': 'James', 'email': 'fred92@yahoo.com', 'country': 'Yemen', 'account': 'QAAE9838291982555'}\n",
      "{'last_name': 'Nelson', 'first_name': 'Greg', 'email': 'mmiller@lynch.com', 'country': 'Jordan', 'account': 'PCNE8127696280157'}\n",
      "{'last_name': 'White', 'first_name': 'Joshua', 'email': 'steven49@gmail.com', 'country': 'Palau', 'account': 'BCEN3299883381338'}\n",
      "{'last_name': 'Francis', 'first_name': 'Todd', 'email': 'amanda23@hotmail.com', 'country': 'Argentina', 'account': 'XPTQ7837014557677'}\n",
      "{'last_name': 'Shaw', 'first_name': 'Stephen', 'email': 'jackduke@hotmail.com', 'country': 'Marshall Islands', 'account': 'TRLQ6559557081716'}\n",
      "{'last_name': 'Armstrong', 'first_name': 'Mariah', 'email': 'rhodesnicholas@hotmail.com', 'country': 'Albania', 'account': 'OHOV7518558201999'}\n",
      "{'last_name': 'Boyle', 'first_name': 'Anthony', 'email': 'smithashlee@yahoo.com', 'country': 'Kyrgyz Republic', 'account': 'MCQU7347833033110'}\n",
      "{'last_name': 'Cuevas', 'first_name': 'Patrick', 'email': 'ubriggs@hill.info', 'country': 'Turkmenistan', 'account': 'PPHE5533473251751'}\n",
      "{'last_name': 'Reyes', 'first_name': 'Gerald', 'email': 'brownclarence@gonzalez-moore.com', 'country': 'Fiji', 'account': 'JCDK1943355298609'}\n",
      "{'last_name': 'Calderon', 'first_name': 'Christopher', 'email': 'teresa30@carpenter-warner.com', 'country': 'Costa Rica', 'account': 'NERZ5502558659614'}\n",
      "{'last_name': 'Weiss', 'first_name': 'Shane', 'email': 'leekatherine@williams.com', 'country': 'Martinique', 'account': 'DLDV5789894914403'}\n",
      "{'last_name': 'Conley', 'first_name': 'Crystal', 'email': 'chasewatkins@perez-phillips.com', 'country': 'Singapore', 'account': 'GZZF6936998445532'}\n",
      "{'last_name': 'Nelson', 'first_name': 'Jeffrey', 'email': 'hsherman@gmail.com', 'country': 'Mayotte', 'account': 'ECGK2823955143629'}\n",
      "{'last_name': 'Johnson', 'first_name': 'Brianna', 'email': 'martinezdaniel@hotmail.com', 'country': 'Costa Rica', 'account': 'QOVO4275314052899'}\n",
      "{'last_name': 'Werner', 'first_name': 'Brandon', 'email': 'justinfischer@gmail.com', 'country': 'Guadeloupe', 'account': 'UKRT1119626365017'}\n",
      "{'last_name': 'Bennett', 'first_name': 'Brianna', 'email': 'cindy08@gmail.com', 'country': 'Bahamas', 'account': 'UNPV3347450330173'}\n",
      "{'last_name': 'Fletcher', 'first_name': 'Austin', 'email': 'carolharrington@fleming.org', 'country': 'Azerbaijan', 'account': 'GJZT6825738428111'}\n",
      "{'last_name': 'Lewis', 'first_name': 'Patrick', 'email': 'lopezcarl@johnson.com', 'country': 'Saint Helena', 'account': 'JOQE2648899771737'}\n",
      "{'last_name': 'Smith', 'first_name': 'Joseph', 'email': 'michael74@yahoo.com', 'country': 'Hong Kong', 'account': 'MNXY3262955868027'}\n",
      "{'last_name': 'Sullivan', 'first_name': 'Sharon', 'email': 'gonzalezrobert@hotmail.com', 'country': 'Turkey', 'account': 'YHXF7256577475630'}\n",
      "{'last_name': 'Wilson', 'first_name': 'Krystal', 'email': 'dawnjohnson@gmail.com', 'country': 'Swaziland', 'account': 'MUVI3570791852556'}\n",
      "{'last_name': 'Schmidt', 'first_name': 'Diana', 'email': 'watersryan@gmail.com', 'country': 'Holy See (Vatican City State)', 'account': 'UKCP6739617302102'}\n",
      "{'last_name': 'Huff', 'first_name': 'Sean', 'email': 'byoung@gmail.com', 'country': 'Norfolk Island', 'account': 'WDAT4146843903498'}\n",
      "{'last_name': 'Nguyen', 'first_name': 'Robin', 'email': 'vhanson@yahoo.com', 'country': 'Kenya', 'account': 'SVMU4403517448078'}\n",
      "{'last_name': 'Russell', 'first_name': 'Robyn', 'email': 'bfletcher@yahoo.com', 'country': 'Togo', 'account': 'ZNUY4071301663622'}\n",
      "{'last_name': 'Smith', 'first_name': 'Tiffany', 'email': 'colleengarrison@hotmail.com', 'country': 'San Marino', 'account': 'GPFA8271551275648'}\n",
      "{'last_name': 'Smith', 'first_name': 'Lori', 'email': 'catherine23@gmail.com', 'country': 'Romania', 'account': 'MKWY4848668895426'}\n",
      "{'last_name': 'Keith', 'first_name': 'Sabrina', 'email': 'xmurphy@yahoo.com', 'country': 'Algeria', 'account': 'QHIW7412514205367'}\n",
      "{'last_name': 'Johnson', 'first_name': 'Miguel', 'email': 'aaronrichard@middleton.net', 'country': 'Slovakia (Slovak Republic)', 'account': 'QAAO4666689281736'}\n",
      "{'last_name': 'Barron', 'first_name': 'Dustin', 'email': 'jesse93@best.com', 'country': 'Somalia', 'account': 'LRPR8694143910883'}\n",
      "{'last_name': 'Robinson', 'first_name': 'Michael', 'email': 'johnperez@johnson.com', 'country': 'Turkmenistan', 'account': 'UWFU1921951273393'}\n",
      "{'last_name': 'Nguyen', 'first_name': 'Robert', 'email': 'jessica62@yahoo.com', 'country': 'Croatia', 'account': 'JQHS4274771257925'}\n",
      "{'last_name': 'Abbott', 'first_name': 'Brandon', 'email': 'jennifer87@gmail.com', 'country': 'Jamaica', 'account': 'RSLD0426398604312'}\n",
      "{'last_name': 'Oneill', 'first_name': 'Bruce', 'email': 'morenolindsay@bass.org', 'country': 'Montserrat', 'account': 'UYHI6964741005832'}\n",
      "{'last_name': 'Nash', 'first_name': 'Linda', 'email': 'robertdavis@hotmail.com', 'country': 'Heard Island and McDonald Islands', 'account': 'ZKTE5908966955533'}\n",
      "{'last_name': 'Cameron', 'first_name': 'Kathleen', 'email': 'melanie81@rogers.com', 'country': 'Niger', 'account': 'HHHP3471562002758'}\n",
      "{'last_name': 'Wilkinson', 'first_name': 'Wesley', 'email': 'clineerin@hotmail.com', 'country': 'Saint Vincent and the Grenadines', 'account': 'UWLV6407825245995'}\n",
      "{'last_name': 'Wallace', 'first_name': 'Debbie', 'email': 'terri95@hotmail.com', 'country': 'Antigua and Barbuda', 'account': 'JRBN0811785293731'}\n",
      "{'last_name': 'Woodward', 'first_name': 'Kayla', 'email': 'danielle65@yahoo.com', 'country': 'Mexico', 'account': 'VDWY7565964041116'}\n",
      "{'last_name': 'Bennett', 'first_name': 'Stephanie', 'email': 'sjackson@yahoo.com', 'country': 'Singapore', 'account': 'DNRB2101855092009'}\n",
      "{'last_name': 'Jenkins', 'first_name': 'Caleb', 'email': 'douglas63@yahoo.com', 'country': 'Botswana', 'account': 'IILE1765776198023'}\n",
      "{'last_name': 'Edwards', 'first_name': 'Valerie', 'email': 'woodardlindsey@yahoo.com', 'country': 'Guinea', 'account': 'ZJUF2687631787282'}\n",
      "{'last_name': 'Anderson', 'first_name': 'Mary', 'email': 'suebrown@yahoo.com', 'country': 'Chile', 'account': 'DHMT4208071148508'}\n",
      "{'last_name': 'Ray', 'first_name': 'Angela', 'email': 'swhite@yahoo.com', 'country': 'Mayotte', 'account': 'UBRR8524342666714'}\n",
      "{'last_name': 'Edwards', 'first_name': 'Haley', 'email': 'martinkimberly@lopez.com', 'country': 'Macedonia', 'account': 'OGPU6537909247863'}\n",
      "{'last_name': 'Clark', 'first_name': 'Charles', 'email': 'jessica11@hotmail.com', 'country': 'Ukraine', 'account': 'AHYX6128839695452'}\n",
      "{'last_name': 'Hill', 'first_name': 'Lisa', 'email': 'hsmith@baker.com', 'country': 'Saint Martin', 'account': 'VUPW6891906300822'}\n",
      "{'last_name': 'Carpenter', 'first_name': 'Jonathan', 'email': 'fklein@yahoo.com', 'country': 'Germany', 'account': 'PKFW4841194501766'}\n",
      "{'last_name': 'Griffith', 'first_name': 'Latoya', 'email': 'ryan32@skinner.com', 'country': 'Lesotho', 'account': 'BNYD8693045932496'}\n",
      "{'last_name': 'Blair', 'first_name': 'Kim', 'email': 'tmurphy@flores.biz', 'country': 'Nepal', 'account': 'FQJA6381776349463'}\n",
      "{'last_name': 'Salazar', 'first_name': 'Mary', 'email': 'mary64@ray.org', 'country': 'Latvia', 'account': 'KCNI2464381879411'}\n",
      "{'last_name': 'Krueger', 'first_name': 'Kenneth', 'email': 'jennajoseph@yahoo.com', 'country': 'Central African Republic', 'account': 'BIGY3006735396533'}\n",
      "{'last_name': 'Burke', 'first_name': 'Phillip', 'email': 'watsonsamuel@gmail.com', 'country': 'Peru', 'account': 'CNJX1222752295544'}\n",
      "{'last_name': 'Juarez', 'first_name': 'Erica', 'email': 'xvelasquez@hughes.com', 'country': 'Spain', 'account': 'ZROP5229895490397'}\n",
      "{'last_name': 'Watkins', 'first_name': 'Jason', 'email': 'april99@gmail.com', 'country': 'Seychelles', 'account': 'NXKK2792812848629'}\n",
      "{'last_name': 'Carter', 'first_name': 'Lee', 'email': 'kfletcher@yahoo.com', 'country': 'Faroe Islands', 'account': 'DPLN5056382218296'}\n",
      "{'last_name': 'Huang', 'first_name': 'Randy', 'email': 'xchurch@hotmail.com', 'country': 'Tokelau', 'account': 'KAOL9792684486009'}\n",
      "{'last_name': 'Owen', 'first_name': 'Kristina', 'email': 'megan24@stewart.net', 'country': 'Cocos (Keeling) Islands', 'account': 'WRXW4627191899235'}\n",
      "{'last_name': 'Turner', 'first_name': 'Beth', 'email': 'sydneycollins@hunter.com', 'country': 'Burundi', 'account': 'OMOK4767172062189'}\n",
      "{'last_name': 'Aguirre', 'first_name': 'Michael', 'email': 'robertbowen@chavez-ortega.com', 'country': 'Timor-Leste', 'account': 'KRKF7344951038740'}\n",
      "{'last_name': 'Wilson', 'first_name': 'Elizabeth', 'email': 'christiandanielle@yahoo.com', 'country': 'Montserrat', 'account': 'SAAA4141150617330'}\n",
      "{'last_name': 'Hardy', 'first_name': 'Teresa', 'email': 'kdavidson@gordon.com', 'country': 'Norway', 'account': 'XNWQ1072087896797'}\n",
      "{'last_name': 'Stewart', 'first_name': 'David', 'email': 'bennettwanda@vega-guerra.net', 'country': 'Sierra Leone', 'account': 'FTHM1005169617995'}\n",
      "{'last_name': 'Moore', 'first_name': 'Heather', 'email': 'mark00@hotmail.com', 'country': 'French Polynesia', 'account': 'OSSM9070924947595'}\n",
      "{'last_name': 'Grant', 'first_name': 'Melissa', 'email': 'schaefernatalie@hotmail.com', 'country': 'French Guiana', 'account': 'CFQJ4204773901237'}\n",
      "{'last_name': 'Thompson', 'first_name': 'Jennifer', 'email': 'moralesmartin@rodgers.com', 'country': 'Cape Verde', 'account': 'MGFG2793756668287'}\n",
      "{'last_name': 'Anderson', 'first_name': 'Raymond', 'email': 'dprince@hotmail.com', 'country': 'Barbados', 'account': 'IGXK5881682171566'}\n",
      "{'last_name': 'Ramsey', 'first_name': 'Angela', 'email': 'cparks@valdez-hudson.com', 'country': 'Andorra', 'account': 'QYBW6359021109484'}\n",
      "{'last_name': 'Gonzales', 'first_name': 'Betty', 'email': 'martinezrichard@yahoo.com', 'country': 'Montserrat', 'account': 'UTSI0776569247505'}\n",
      "{'last_name': 'Castaneda', 'first_name': 'Thomas', 'email': 'kpena@yahoo.com', 'country': 'Egypt', 'account': 'LSDI9463735752680'}\n",
      "{'last_name': 'Todd', 'first_name': 'Jonathan', 'email': 'julie68@gmail.com', 'country': 'Malaysia', 'account': 'ISYY1401931979959'}\n",
      "{'last_name': 'Garcia', 'first_name': 'Stacey', 'email': 'lukebradford@hotmail.com', 'country': 'Zimbabwe', 'account': 'HNOA0376843856035'}\n",
      "{'last_name': 'Figueroa', 'first_name': 'Judy', 'email': 'ystewart@yahoo.com', 'country': 'Portugal', 'account': 'EEVV8325881104553'}\n",
      "{'last_name': 'Castillo', 'first_name': 'Ashley', 'email': 'cory33@king-shaw.net', 'country': 'Paraguay', 'account': 'QXGZ3111246190069'}\n",
      "{'last_name': 'Flores', 'first_name': 'Zachary', 'email': 'zcalhoun@gmail.com', 'country': 'Central African Republic', 'account': 'ACQR2846533122117'}\n",
      "{'last_name': 'Allen', 'first_name': 'Erica', 'email': 'michaelhall@hotmail.com', 'country': 'Palau', 'account': 'ZAZD8310339637467'}\n",
      "{'last_name': 'Potts', 'first_name': 'Savannah', 'email': 'kristentaylor@yahoo.com', 'country': 'Micronesia', 'account': 'ARWK1547324119222'}\n",
      "{'last_name': 'Wheeler', 'first_name': 'Zachary', 'email': 'stephen63@yahoo.com', 'country': 'Armenia', 'account': 'OMQX4840913072589'}\n",
      "{'last_name': 'Thomas', 'first_name': 'Timothy', 'email': 'bryanmartin@gmail.com', 'country': 'Bahrain', 'account': 'OCFV4659464275270'}\n",
      "{'last_name': 'Mcknight', 'first_name': 'Ann', 'email': 'kristinavelasquez@gmail.com', 'country': 'Guatemala', 'account': 'DTRB4720098955341'}\n",
      "{'last_name': 'Thompson', 'first_name': 'Ruth', 'email': 'denise01@burns.org', 'country': 'Saint Vincent and the Grenadines', 'account': 'YYHM5758234683389'}\n",
      "{'last_name': 'Levy', 'first_name': 'Daniel', 'email': 'beancody@jones.com', 'country': 'Kazakhstan', 'account': 'AHBN3151680654826'}\n",
      "{'last_name': 'Hubbard', 'first_name': 'Paul', 'email': 'ubradley@yahoo.com', 'country': 'Germany', 'account': 'FGBC0366153271398'}\n",
      "{'last_name': 'Jones', 'first_name': 'Jason', 'email': 'anthony75@yahoo.com', 'country': 'Western Sahara', 'account': 'MHTE8867005510944'}\n",
      "{'last_name': 'Garcia', 'first_name': 'Margaret', 'email': 'antonio52@gmail.com', 'country': 'Togo', 'account': 'IYOD4325345823013'}\n",
      "{'last_name': 'Peters', 'first_name': 'Jeremy', 'email': 'johnlewis@hotmail.com', 'country': 'Guam', 'account': 'NZFX8257739892619'}\n",
      "{'last_name': 'Stone', 'first_name': 'Mark', 'email': 'nmoore@hotmail.com', 'country': 'Kuwait', 'account': 'MWRB2515761996641'}\n",
      "{'last_name': 'Edwards', 'first_name': 'Darius', 'email': 'nchurch@yahoo.com', 'country': 'Eritrea', 'account': 'CURJ9953745256871'}\n",
      "{'last_name': 'Lawson', 'first_name': 'Tracy', 'email': 'piercejenna@gmail.com', 'country': 'Czech Republic', 'account': 'ATOT8581137487723'}\n",
      "{'last_name': 'Cooper', 'first_name': 'Christina', 'email': 'ddavidson@hotmail.com', 'country': 'Maldives', 'account': 'RQGA0882784089265'}\n",
      "{'last_name': 'Harris', 'first_name': 'Megan', 'email': 'ndelacruz@yahoo.com', 'country': 'Armenia', 'account': 'EOPA8088866975598'}\n",
      "{'last_name': 'Jones', 'first_name': 'Timothy', 'email': 'jenniferadkins@griffin.biz', 'country': 'Benin', 'account': 'JCUN9597199552039'}\n",
      "{'last_name': 'Burch', 'first_name': 'Tracie', 'email': 'evansmiguel@yahoo.com', 'country': 'Fiji', 'account': 'IZYL3351829981461'}\n",
      "{'last_name': 'Chung', 'first_name': 'Jason', 'email': 'kenneththompson@baxter.com', 'country': 'Iceland', 'account': 'JDIH2349154465371'}\n",
      "{'last_name': 'Melton', 'first_name': 'Samantha', 'email': 'bcurtis@hotmail.com', 'country': 'Macedonia', 'account': 'VRZP1447516193511'}\n",
      "{'last_name': 'Hansen', 'first_name': 'Michael', 'email': 'phillipssean@hotmail.com', 'country': 'Serbia', 'account': 'QKAF2254397516681'}\n"
     ]
    }
   ],
   "source": [
    "filename = 'people.tsv.txt'\n",
    "\n",
    "students = []\n",
    "header = None\n",
    "with open(filename) as file:\n",
    "    for line in file:\n",
    "        if not line.strip():\n",
    "            continue\n",
    "            \n",
    "        if not header:\n",
    "            header = line.strip().split('\\t')\n",
    "            continue\n",
    "#         print(header)\n",
    "#         print(line.strip().split('\\t'))\n",
    "#         print(dict(list(zip(header, line.strip().split('\\t')))))\n",
    "#         tmp = dict(zip(header,line.strip().split('\\t')))\n",
    "        students.append(dict(zip(header,line.strip().split('\\t'))))\n",
    "for student in students:\n",
    "    print(student)"
   ]
  },
  {
   "cell_type": "markdown",
   "id": "09a19d91",
   "metadata": {},
   "source": [
    "To accomplish this, we will go through each line by iterating over the file object and skipping the empty lines. The part of the code given below will check for the empty lines. The .strip() method will return an empty list which evaluates to boolean false. Whenever this happens, the loop will simply continue. \n",
    "\n",
    "`if not line.strip():\n",
    "            continue`"
   ]
  },
  {
   "cell_type": "markdown",
   "id": "c6f264d3",
   "metadata": {},
   "source": [
    "The first line which is not empty will be stored in the header list after splitting it. \n",
    "\n",
    "`if not header:\n",
    "            header = line.strip().split('\\t')`"
   ]
  },
  {
   "cell_type": "markdown",
   "id": "91395f8a",
   "metadata": {},
   "source": [
    "Each subsequent line of data will be splitted and 'zipped' with the header list. This zip object is then converted to a dictionary and the dictionary is stored in the students list. The final output is a list of dictionaries. \n",
    "\n",
    "`students.append(dict(zip(header,line.strip().split('\\t'))))`"
   ]
  }
 ],
 "metadata": {
  "kernelspec": {
   "display_name": "Python 3 (ipykernel)",
   "language": "python",
   "name": "python3"
  },
  "language_info": {
   "codemirror_mode": {
    "name": "ipython",
    "version": 3
   },
   "file_extension": ".py",
   "mimetype": "text/x-python",
   "name": "python",
   "nbconvert_exporter": "python",
   "pygments_lexer": "ipython3",
   "version": "3.9.12"
  }
 },
 "nbformat": 4,
 "nbformat_minor": 5
}
